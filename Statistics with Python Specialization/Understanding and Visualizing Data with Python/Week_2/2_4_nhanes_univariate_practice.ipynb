{
 "cells": [
  {
   "cell_type": "markdown",
   "metadata": {},
   "source": [
    "# Practice notebook for univariate analysis using NHANES data\n",
    "\n"
   ]
  },
  {
   "cell_type": "code",
   "execution_count": 1,
   "metadata": {},
   "outputs": [],
   "source": [
    "%matplotlib inline\n",
    "import matplotlib.pyplot as plt\n",
    "import seaborn as sns\n",
    "import pandas as pd\n",
    "import statsmodels.api as sm\n",
    "import numpy as np\n",
    "\n",
    "da = pd.read_csv(\"nhanes_2015_2016.csv\")"
   ]
  },
  {
   "cell_type": "markdown",
   "metadata": {},
   "source": [
    "## Question 1\n",
    "\n",
    "Relabel the marital status variable [DMDMARTL](https://wwwn.cdc.gov/Nchs/Nhanes/2015-2016/DEMO_I.htm#DMDMARTL) to have brief but informative character labels.  Then construct a frequency table of these values for all people, then for women only, and for men only.  Then construct these three frequency tables using only people whose age is between 30 and 40."
   ]
  },
  {
   "cell_type": "code",
   "execution_count": 2,
   "metadata": {},
   "outputs": [
    {
     "data": {
      "text/plain": [
       "1.0     2780\n",
       "5.0     1004\n",
       "3.0      579\n",
       "6.0      527\n",
       "2.0      396\n",
       "4.0      186\n",
       "77.0       2\n",
       "Name: DMDMARTL, dtype: int64"
      ]
     },
     "execution_count": 2,
     "metadata": {},
     "output_type": "execute_result"
    }
   ],
   "source": [
    "da['DMDMARTL'].value_counts()"
   ]
  },
  {
   "cell_type": "code",
   "execution_count": 3,
   "metadata": {},
   "outputs": [
    {
     "data": {
      "text/plain": [
       "261"
      ]
     },
     "execution_count": 3,
     "metadata": {},
     "output_type": "execute_result"
    }
   ],
   "source": [
    "da['DMDMARTL'].isnull().sum()"
   ]
  },
  {
   "cell_type": "code",
   "execution_count": 4,
   "metadata": {},
   "outputs": [
    {
     "data": {
      "text/plain": [
       "0                Married\n",
       "1               Divorced\n",
       "2                Married\n",
       "3    Living With Partner\n",
       "4               Divorced\n",
       "Name: DMDMARTL_txt_val, dtype: object"
      ]
     },
     "execution_count": 4,
     "metadata": {},
     "output_type": "execute_result"
    }
   ],
   "source": [
    "da['DMDMARTL_txt_val'] = da['DMDMARTL'].replace({1: 'Married', 2: 'Widowed', 3: 'Divorced', 4: 'Separated',\n",
    "                                                  5: 'Never Married', 6: 'Living With Partner', \n",
    "                                                  77: 'Refused', 99: \"Don't Know\"})\n",
    "da['DMDMARTL_txt_val'].head()"
   ]
  },
  {
   "cell_type": "code",
   "execution_count": 5,
   "metadata": {},
   "outputs": [
    {
     "data": {
      "text/plain": [
       "Married                2780\n",
       "Never Married          1004\n",
       "Divorced                579\n",
       "Living With Partner     527\n",
       "Widowed                 396\n",
       "Separated               186\n",
       "Refused                   2\n",
       "Name: DMDMARTL_txt_val, dtype: int64"
      ]
     },
     "execution_count": 5,
     "metadata": {},
     "output_type": "execute_result"
    }
   ],
   "source": [
    "da['DMDMARTL_txt_val'].value_counts()"
   ]
  },
  {
   "cell_type": "code",
   "execution_count": 6,
   "metadata": {},
   "outputs": [
    {
     "data": {
      "text/plain": [
       "0"
      ]
     },
     "execution_count": 6,
     "metadata": {},
     "output_type": "execute_result"
    }
   ],
   "source": [
    "da['DMDMARTL_txt_val'].fillna('Missing', inplace=True)\n",
    "da['DMDMARTL_txt_val'].isna().sum()"
   ]
  },
  {
   "cell_type": "code",
   "execution_count": 7,
   "metadata": {},
   "outputs": [
    {
     "data": {
      "text/plain": [
       "2    2976\n",
       "1    2759\n",
       "Name: RIAGENDR, dtype: int64"
      ]
     },
     "execution_count": 7,
     "metadata": {},
     "output_type": "execute_result"
    }
   ],
   "source": [
    "da['RIAGENDR'].value_counts()"
   ]
  },
  {
   "cell_type": "code",
   "execution_count": 8,
   "metadata": {},
   "outputs": [
    {
     "data": {
      "text/plain": [
       "Female    2976\n",
       "Male      2759\n",
       "Name: RIAGENDR_val, dtype: int64"
      ]
     },
     "execution_count": 8,
     "metadata": {},
     "output_type": "execute_result"
    }
   ],
   "source": [
    "da['RIAGENDR_val'] = da['RIAGENDR'].replace({1: 'Male', 2: 'Female'})\n",
    "da['RIAGENDR_val'].value_counts()"
   ]
  },
  {
   "cell_type": "code",
   "execution_count": 9,
   "metadata": {},
   "outputs": [
    {
     "data": {
      "text/plain": [
       "<AxesSubplot:xlabel='count', ylabel='DMDMARTL_txt_val'>"
      ]
     },
     "execution_count": 9,
     "metadata": {},
     "output_type": "execute_result"
    },
    {
     "data": {
      "image/png": "[encoded data removed]",
      "text/plain": [
       "<Figure size 432x288 with 1 Axes>"
      ]
     },
     "metadata": {
      "needs_background": "light"
     },
     "output_type": "display_data"
    }
   ],
   "source": [
    "sns.countplot(y=da['DMDMARTL_txt_val'])"
   ]
  },
  {
   "cell_type": "code",
   "execution_count": 10,
   "metadata": {},
   "outputs": [
    {
     "data": {
      "text/plain": [
       "<AxesSubplot:xlabel='count', ylabel='RIAGENDR_val'>"
      ]
     },
     "execution_count": 10,
     "metadata": {},
     "output_type": "execute_result"
    },
    {
     "data": {
      "image/png": "[encoded data removed]",
      "text/plain": [
       "<Figure size 432x288 with 1 Axes>"
      ]
     },
     "metadata": {
      "needs_background": "light"
     },
     "output_type": "display_data"
    }
   ],
   "source": [
    "sns.countplot(y=da['RIAGENDR_val'])"
   ]
  },
  {
   "cell_type": "code",
   "execution_count": 11,
   "metadata": {},
   "outputs": [
    {
     "data": {
      "image/png": "[encoded data removed]",
      "text/plain": [
       "<Figure size 1080x576 with 1 Axes>"
      ]
     },
     "metadata": {
      "needs_background": "light"
     },
     "output_type": "display_data"
    }
   ],
   "source": [
    "da.groupby(['RIAGENDR_val','DMDMARTL_txt_val']).size().unstack(fill_value=0).plot.bar(figsize = (15,8))\n",
    "plt.show()"
   ]
  },
  {
   "cell_type": "code",
   "execution_count": 12,
   "metadata": {},
   "outputs": [
    {
     "data": {
      "image/png": "[encoded data removed]",
      "text/plain": [
       "<Figure size 1080x576 with 1 Axes>"
      ]
     },
     "metadata": {
      "needs_background": "light"
     },
     "output_type": "display_data"
    }
   ],
   "source": [
    "da[\"agegrp\"] = pd.cut(da.RIDAGEYR, [18, 30, 40, 50, 60, 70, 80])\n",
    "\n",
    "da.groupby(['agegrp', 'DMDMARTL_txt_val']).size().unstack(fill_value=0).plot.bar(figsize = (15,8))\n",
    "plt.show()"
   ]
  },
  {
   "cell_type": "code",
   "execution_count": 13,
   "metadata": {},
   "outputs": [
    {
     "name": "stdout",
     "output_type": "stream",
     "text": [
      "DMDMARTL_txt_val       Divorced  Living With Partner  Married  Never Married  Refused  Separated  Widowed\n",
      "agegrp   RIAGENDR_val                                                                                    \n",
      "(18, 30] Female        0.019892             0.206148 0.285714       0.468354      NaN   0.019892      NaN\n",
      "         Male          0.004237             0.201271 0.220339       0.555085      NaN   0.014831 0.004237\n",
      "(30, 40] Female        0.090717             0.120253 0.544304       0.204641      NaN   0.035865 0.004219\n",
      "         Male          0.052402             0.157205 0.563319       0.194323 0.002183   0.026201 0.004367\n",
      "(40, 50] Female        0.137450             0.073705 0.573705       0.125498      NaN   0.065737 0.023904\n",
      "         Male          0.084788             0.082294 0.703242       0.097257      NaN   0.027431 0.004988\n",
      "(50, 60] Female        0.176596             0.068085 0.546809       0.089362 0.002128   0.057447 0.059574\n",
      "         Male          0.125551             0.074890 0.651982       0.103524      NaN   0.022026 0.022026\n",
      "(60, 70] Female        0.192744             0.043084 0.480726       0.086168      NaN   0.049887 0.147392\n",
      "         Male          0.125858             0.050343 0.665904       0.086957      NaN   0.032037 0.038902\n",
      "(70, 80] Female        0.143902             0.007317 0.317073       0.051220      NaN   0.019512 0.460976\n",
      "         Male          0.141791             0.022388 0.611940       0.022388      NaN   0.034826 0.166667\n"
     ]
    }
   ],
   "source": [
    "dx = da.loc[~da['DMDMARTL_txt_val'].isin([\"Don't Know\", 'Missing']), :]\n",
    "dx = dx.groupby(['agegrp', 'RIAGENDR_val'])['DMDMARTL_txt_val']\n",
    "dx = dx.value_counts()\n",
    "dx = dx.unstack()\n",
    "dx = dx.apply(lambda x: x/x.sum(), axis = 1)\n",
    "print(dx.to_string(float_format= \"%3f\"))"
   ]
  },
  {
   "cell_type": "code",
   "execution_count": 14,
   "metadata": {},
   "outputs": [],
   "source": [
    "female_df = pd.DataFrame()\n",
    "female_df = da[da['RIAGENDR_val'] == 'Female']"
   ]
  },
  {
   "cell_type": "code",
   "execution_count": 15,
   "metadata": {},
   "outputs": [
    {
     "name": "stderr",
     "output_type": "stream",
     "text": [
      "C:\\Users\\RDTL\\AppData\\Local\\Temp\\ipykernel_25096\\431940014.py:1: SettingWithCopyWarning: \n",
      "A value is trying to be set on a copy of a slice from a DataFrame.\n",
      "Try using .loc[row_indexer,col_indexer] = value instead\n",
      "\n",
      "See the caveats in the documentation: https://pandas.pydata.org/pandas-docs/stable/user_guide/indexing.html#returning-a-view-versus-a-copy\n",
      "  female_df[\"agegrp\"] = pd.cut(female_df.RIDAGEYR, [18, 20, 30, 40, 50, 60, 70, 80])\n"
     ]
    },
    {
     "data": {
      "image/png": "[encoded data removed]",
      "text/plain": [
       "<Figure size 1080x576 with 1 Axes>"
      ]
     },
     "metadata": {
      "needs_background": "light"
     },
     "output_type": "display_data"
    }
   ],
   "source": [
    "female_df[\"agegrp\"] = pd.cut(female_df.RIDAGEYR, [18, 20, 30, 40, 50, 60, 70, 80])\n",
    "\n",
    "female_df.groupby(['agegrp', 'DMDMARTL_txt_val']).size().unstack(fill_value=0).plot.bar(figsize = (15,8))\n",
    "plt.show()"
   ]
  },
  {
   "cell_type": "code",
   "execution_count": 16,
   "metadata": {},
   "outputs": [],
   "source": [
    "male_df = pd.DataFrame()\n",
    "male_df = da[da['RIAGENDR_val'] == 'Male']"
   ]
  },
  {
   "cell_type": "code",
   "execution_count": 17,
   "metadata": {},
   "outputs": [
    {
     "name": "stderr",
     "output_type": "stream",
     "text": [
      "C:\\Users\\RDTL\\AppData\\Local\\Temp\\ipykernel_25096\\2921358986.py:1: SettingWithCopyWarning: \n",
      "A value is trying to be set on a copy of a slice from a DataFrame.\n",
      "Try using .loc[row_indexer,col_indexer] = value instead\n",
      "\n",
      "See the caveats in the documentation: https://pandas.pydata.org/pandas-docs/stable/user_guide/indexing.html#returning-a-view-versus-a-copy\n",
      "  male_df[\"agegrp\"] = pd.cut(male_df.RIDAGEYR, [18, 20, 30, 40, 50, 60, 70, 80])\n"
     ]
    },
    {
     "data": {
      "image/png": "[encoded data removed]",
      "text/plain": [
       "<Figure size 1080x576 with 1 Axes>"
      ]
     },
     "metadata": {
      "needs_background": "light"
     },
     "output_type": "display_data"
    }
   ],
   "source": [
    "male_df[\"agegrp\"] = pd.cut(male_df.RIDAGEYR, [18, 20, 30, 40, 50, 60, 70, 80])\n",
    "\n",
    "male_df.groupby(['agegrp', 'DMDMARTL_txt_val']).size().unstack(fill_value=0).plot.bar(figsize = (15,8))\n",
    "plt.show()"
   ]
  },
  {
   "cell_type": "markdown",
   "metadata": {},
   "source": [
    "__Q1a.__ Briefly comment on some of the differences that you observe between the distribution of marital status between women and men, for people of all ages."
   ]
  },
  {
   "cell_type": "markdown",
   "metadata": {},
   "source": [
    "We notice that both graphs are unimodal with most men and women being married. The number of observation of Male members is more than the Female members. One thing we see is when looking at the Divorced and Living with Partner sections, There are more Divorced women than those who Live with their partners. It is the other way round for men."
   ]
  },
  {
   "cell_type": "markdown",
   "metadata": {},
   "source": [
    "__Q1b.__ Briefly comment on the differences that you observe between the distribution of marital status states for women between the overall population, and for women between the ages of 30 and 40."
   ]
  },
  {
   "cell_type": "markdown",
   "metadata": {},
   "source": [
    "in the overall distribution of women, we notice that more women are divorced as compared to those who live with their partners. On the other hand, in the 30-40 age group, more of them tend to live with their partners and less of them are divorced. We also notice that in the 30-40 age group, more of them are separated than widowed. This may be because their partners are still relatively younger."
   ]
  },
  {
   "cell_type": "markdown",
   "metadata": {},
   "source": [
    "__Q1c.__ Repeat part b for the men."
   ]
  },
  {
   "cell_type": "markdown",
   "metadata": {},
   "source": [
    "In the overall case, more men tend to live with their partners than they are divorced. Very few of them are separated or widowed, maybe because women tend to live longer than men.\n",
    "In the 30-40 age bracket, we notice that the gap between men being separated and widowed is relatively larger than the overall case of all men. Also, the number of men living with their partners is almost three times the number of men divorced, which is interesting as in the overall case, these numbers aren't very far apart."
   ]
  },
  {
   "cell_type": "markdown",
   "metadata": {},
   "source": [
    "## Question 2\n",
    "\n",
    "Restricting to the female population, stratify the subjects into age bands no wider than ten years, and construct the distribution of marital status within each age band.  Within each age band, present the distribution in terms of proportions that must sum to 1."
   ]
  },
  {
   "cell_type": "code",
   "execution_count": 18,
   "metadata": {},
   "outputs": [
    {
     "data": {
      "image/png": "[encoded data removed]",
      "text/plain": [
       "<Figure size 1080x576 with 1 Axes>"
      ]
     },
     "metadata": {
      "needs_background": "light"
     },
     "output_type": "display_data"
    }
   ],
   "source": [
    "female_df.groupby(['agegrp', 'DMDMARTL_txt_val']).size().unstack(fill_value=0).plot.bar(figsize = (15,8))\n",
    "plt.show()"
   ]
  },
  {
   "cell_type": "code",
   "execution_count": 19,
   "metadata": {},
   "outputs": [
    {
     "name": "stdout",
     "output_type": "stream",
     "text": [
      "DMDMARTL_txt_val  Divorced  Living With Partner  Married  Never Married  Refused  Separated  Widowed\n",
      "agegrp                                                                                              \n",
      "(18, 20]               NaN             0.205128 0.025641       0.769231      NaN        NaN      NaN\n",
      "(20, 30]          0.021401             0.206226 0.305447       0.445525      NaN   0.021401      NaN\n",
      "(30, 40]          0.090717             0.120253 0.544304       0.204641      NaN   0.035865 0.004219\n",
      "(40, 50]          0.137450             0.073705 0.573705       0.125498      NaN   0.065737 0.023904\n",
      "(50, 60]          0.176596             0.068085 0.546809       0.089362 0.002128   0.057447 0.059574\n",
      "(60, 70]          0.192744             0.043084 0.480726       0.086168      NaN   0.049887 0.147392\n",
      "(70, 80]          0.143902             0.007317 0.317073       0.051220      NaN   0.019512 0.460976\n"
     ]
    }
   ],
   "source": [
    "female_dx = female_df.loc[~female_df['DMDMARTL_txt_val'].isin([\"Don't Know\", 'Missing']), :]\n",
    "female_dx = female_dx.groupby(['agegrp'])['DMDMARTL_txt_val']\n",
    "female_dx = female_dx.value_counts()\n",
    "female_dx = female_dx.unstack()\n",
    "female_dx = female_dx.apply(lambda x: x/x.sum(), axis = 1)\n",
    "print(female_dx.to_string(float_format= \"%3f\"))"
   ]
  },
  {
   "cell_type": "markdown",
   "metadata": {},
   "source": [
    "__Q2a.__ Comment on the trends that you see in this series of marginal distributions."
   ]
  },
  {
   "cell_type": "markdown",
   "metadata": {},
   "source": [
    "We see that as age increases, the number of females who get divorced increases up to the age of 70 and then at the age group of 70-80, comparatively less number of people get divorced. We also notice that as age increases, the number of widows increases as well. \n",
    "One interesting pattern we notice is that the number of people living with their partners increases from 18-30 but then it steadily decreases with the lowest being at the age og 70-80. This may be because of them being widowed and divorced as well.\n",
    "Another trend is that as age increases, the people start to get married. it's almost 76% for people between 18-20 but it decreases rapidly."
   ]
  },
  {
   "cell_type": "markdown",
   "metadata": {},
   "source": [
    "__Q2b.__ Repeat the construction for males."
   ]
  },
  {
   "cell_type": "code",
   "execution_count": 20,
   "metadata": {},
   "outputs": [
    {
     "name": "stdout",
     "output_type": "stream",
     "text": [
      "DMDMARTL_txt_val  Divorced  Living With Partner  Married  Never Married  Refused  Separated  Widowed\n",
      "agegrp                                                                                              \n",
      "(18, 20]               NaN             0.075000 0.025000       0.900000      NaN        NaN      NaN\n",
      "(20, 30]          0.004630             0.212963 0.238426       0.523148      NaN   0.016204 0.004630\n",
      "(30, 40]          0.052402             0.157205 0.563319       0.194323 0.002183   0.026201 0.004367\n",
      "(40, 50]          0.084788             0.082294 0.703242       0.097257      NaN   0.027431 0.004988\n",
      "(50, 60]          0.125551             0.074890 0.651982       0.103524      NaN   0.022026 0.022026\n",
      "(60, 70]          0.125858             0.050343 0.665904       0.086957      NaN   0.032037 0.038902\n",
      "(70, 80]          0.141791             0.022388 0.611940       0.022388      NaN   0.034826 0.166667\n"
     ]
    }
   ],
   "source": [
    "male_dx = male_df.loc[~male_df['DMDMARTL_txt_val'].isin([\"Don't Know\", 'Missing']), :]\n",
    "male_dx = male_dx.groupby(['agegrp'])['DMDMARTL_txt_val']\n",
    "male_dx = male_dx.value_counts()\n",
    "male_dx = male_dx.unstack()\n",
    "male_dx = male_dx.apply(lambda x: x/x.sum(), axis = 1)\n",
    "print(male_dx.to_string(float_format= \"%3f\"))"
   ]
  },
  {
   "cell_type": "markdown",
   "metadata": {},
   "source": [
    "__Q2c.__ Comment on any notable differences that you see when comparing these results for females and for males."
   ]
  },
  {
   "cell_type": "markdown",
   "metadata": {},
   "source": [
    "We notice that fewer men tend to get divorced than women. More men tend to live with their partners as well, even though it reduces over time, it is still more than women. The number of men who are never married is more than the number of women as well. Less men are widowed. Probably because women tend to live longer than men. Fewer men tend to be separated as well."
   ]
  },
  {
   "cell_type": "markdown",
   "metadata": {},
   "source": [
    "## Question 3\n",
    "\n",
    "Construct a histogram of the distribution of heights using the BMXHT variable in the NHANES sample."
   ]
  },
  {
   "cell_type": "code",
   "execution_count": 21,
   "metadata": {},
   "outputs": [
    {
     "name": "stdout",
     "output_type": "stream",
     "text": [
      "<class 'pandas.core.frame.DataFrame'>\n",
      "RangeIndex: 5735 entries, 0 to 5734\n",
      "Data columns (total 31 columns):\n",
      " #   Column            Non-Null Count  Dtype   \n",
      "---  ------            --------------  -----   \n",
      " 0   SEQN              5735 non-null   int64   \n",
      " 1   ALQ101            5208 non-null   float64 \n",
      " 2   ALQ110            1731 non-null   float64 \n",
      " 3   ALQ130            3379 non-null   float64 \n",
      " 4   SMQ020            5735 non-null   int64   \n",
      " 5   RIAGENDR          5735 non-null   int64   \n",
      " 6   RIDAGEYR          5735 non-null   int64   \n",
      " 7   RIDRETH1          5735 non-null   int64   \n",
      " 8   DMDCITZN          5734 non-null   float64 \n",
      " 9   DMDEDUC2          5474 non-null   float64 \n",
      " 10  DMDMARTL          5474 non-null   float64 \n",
      " 11  DMDHHSIZ          5735 non-null   int64   \n",
      " 12  WTINT2YR          5735 non-null   float64 \n",
      " 13  SDMVPSU           5735 non-null   int64   \n",
      " 14  SDMVSTRA          5735 non-null   int64   \n",
      " 15  INDFMPIR          5134 non-null   float64 \n",
      " 16  BPXSY1            5401 non-null   float64 \n",
      " 17  BPXDI1            5401 non-null   float64 \n",
      " 18  BPXSY2            5535 non-null   float64 \n",
      " 19  BPXDI2            5535 non-null   float64 \n",
      " 20  BMXWT             5666 non-null   float64 \n",
      " 21  BMXHT             5673 non-null   float64 \n",
      " 22  BMXBMI            5662 non-null   float64 \n",
      " 23  BMXLEG            5345 non-null   float64 \n",
      " 24  BMXARML           5427 non-null   float64 \n",
      " 25  BMXARMC           5427 non-null   float64 \n",
      " 26  BMXWAIST          5368 non-null   float64 \n",
      " 27  HIQ210            4732 non-null   float64 \n",
      " 28  DMDMARTL_txt_val  5735 non-null   object  \n",
      " 29  RIAGENDR_val      5735 non-null   object  \n",
      " 30  agegrp            5602 non-null   category\n",
      "dtypes: category(1), float64(20), int64(8), object(2)\n",
      "memory usage: 1.3+ MB\n"
     ]
    }
   ],
   "source": [
    "da.info()"
   ]
  },
  {
   "cell_type": "code",
   "execution_count": 22,
   "metadata": {},
   "outputs": [
    {
     "name": "stderr",
     "output_type": "stream",
     "text": [
      "c:\\Users\\RDTL\\anaconda3\\envs\\ds_off_py\\lib\\site-packages\\seaborn\\distributions.py:2619: FutureWarning: `distplot` is a deprecated function and will be removed in a future version. Please adapt your code to use either `displot` (a figure-level function with similar flexibility) or `histplot` (an axes-level function for histograms).\n",
      "  warnings.warn(msg, FutureWarning)\n"
     ]
    },
    {
     "data": {
      "text/plain": [
       "<AxesSubplot:xlabel='BMXHT', ylabel='Density'>"
      ]
     },
     "execution_count": 22,
     "metadata": {},
     "output_type": "execute_result"
    },
    {
     "data": {
      "image/png": "[encoded data removed]",
      "text/plain": [
       "<Figure size 432x288 with 1 Axes>"
      ]
     },
     "metadata": {
      "needs_background": "light"
     },
     "output_type": "display_data"
    }
   ],
   "source": [
    "bmxht_df = da[da['BMXHT'].isna() == False]\n",
    "sns.distplot(bmxht_df['BMXHT'])"
   ]
  },
  {
   "cell_type": "code",
   "execution_count": 23,
   "metadata": {},
   "outputs": [
    {
     "name": "stderr",
     "output_type": "stream",
     "text": [
      "c:\\Users\\RDTL\\anaconda3\\envs\\ds_off_py\\lib\\site-packages\\seaborn\\distributions.py:2619: FutureWarning: `distplot` is a deprecated function and will be removed in a future version. Please adapt your code to use either `displot` (a figure-level function with similar flexibility) or `histplot` (an axes-level function for histograms).\n",
      "  warnings.warn(msg, FutureWarning)\n"
     ]
    },
    {
     "data": {
      "text/plain": [
       "<AxesSubplot:xlabel='BMXHT', ylabel='Density'>"
      ]
     },
     "execution_count": 23,
     "metadata": {},
     "output_type": "execute_result"
    },
    {
     "data": {
      "image/png": "[encoded data removed]",
      "text/plain": [
       "<Figure size 432x288 with 1 Axes>"
      ]
     },
     "metadata": {
      "needs_background": "light"
     },
     "output_type": "display_data"
    }
   ],
   "source": [
    "sns.distplot(bmxht_df['BMXHT'], bins = 5)"
   ]
  },
  {
   "cell_type": "code",
   "execution_count": 24,
   "metadata": {},
   "outputs": [
    {
     "name": "stderr",
     "output_type": "stream",
     "text": [
      "c:\\Users\\RDTL\\anaconda3\\envs\\ds_off_py\\lib\\site-packages\\seaborn\\distributions.py:2619: FutureWarning: `distplot` is a deprecated function and will be removed in a future version. Please adapt your code to use either `displot` (a figure-level function with similar flexibility) or `histplot` (an axes-level function for histograms).\n",
      "  warnings.warn(msg, FutureWarning)\n"
     ]
    },
    {
     "data": {
      "text/plain": [
       "<AxesSubplot:xlabel='BMXHT', ylabel='Density'>"
      ]
     },
     "execution_count": 24,
     "metadata": {},
     "output_type": "execute_result"
    },
    {
     "data": {
      "image/png": "[encoded data removed]",
      "text/plain": [
       "<Figure size 432x288 with 1 Axes>"
      ]
     },
     "metadata": {
      "needs_background": "light"
     },
     "output_type": "display_data"
    }
   ],
   "source": [
    "sns.distplot(bmxht_df['BMXHT'], bins = 10)"
   ]
  },
  {
   "cell_type": "code",
   "execution_count": 25,
   "metadata": {},
   "outputs": [
    {
     "name": "stderr",
     "output_type": "stream",
     "text": [
      "c:\\Users\\RDTL\\anaconda3\\envs\\ds_off_py\\lib\\site-packages\\seaborn\\distributions.py:2619: FutureWarning: `distplot` is a deprecated function and will be removed in a future version. Please adapt your code to use either `displot` (a figure-level function with similar flexibility) or `histplot` (an axes-level function for histograms).\n",
      "  warnings.warn(msg, FutureWarning)\n"
     ]
    },
    {
     "data": {
      "text/plain": [
       "<AxesSubplot:xlabel='BMXHT', ylabel='Density'>"
      ]
     },
     "execution_count": 25,
     "metadata": {},
     "output_type": "execute_result"
    },
    {
     "data": {
      "image/png": "[encoded data removed]",
      "text/plain": [
       "<Figure size 432x288 with 1 Axes>"
      ]
     },
     "metadata": {
      "needs_background": "light"
     },
     "output_type": "display_data"
    }
   ],
   "source": [
    "sns.distplot(bmxht_df['BMXHT'], bins = 20)"
   ]
  },
  {
   "cell_type": "code",
   "execution_count": 26,
   "metadata": {},
   "outputs": [
    {
     "name": "stderr",
     "output_type": "stream",
     "text": [
      "c:\\Users\\RDTL\\anaconda3\\envs\\ds_off_py\\lib\\site-packages\\seaborn\\distributions.py:2619: FutureWarning: `distplot` is a deprecated function and will be removed in a future version. Please adapt your code to use either `displot` (a figure-level function with similar flexibility) or `histplot` (an axes-level function for histograms).\n",
      "  warnings.warn(msg, FutureWarning)\n"
     ]
    },
    {
     "data": {
      "text/plain": [
       "<AxesSubplot:xlabel='BMXHT', ylabel='Density'>"
      ]
     },
     "execution_count": 26,
     "metadata": {},
     "output_type": "execute_result"
    },
    {
     "data": {
      "image/png": "[encoded data removed]",
      "text/plain": [
       "<Figure size 432x288 with 1 Axes>"
      ]
     },
     "metadata": {
      "needs_background": "light"
     },
     "output_type": "display_data"
    }
   ],
   "source": [
    "sns.distplot(bmxht_df['BMXHT'], bins = 50)"
   ]
  },
  {
   "cell_type": "code",
   "execution_count": 27,
   "metadata": {},
   "outputs": [
    {
     "name": "stderr",
     "output_type": "stream",
     "text": [
      "c:\\Users\\RDTL\\anaconda3\\envs\\ds_off_py\\lib\\site-packages\\seaborn\\distributions.py:2619: FutureWarning: `distplot` is a deprecated function and will be removed in a future version. Please adapt your code to use either `displot` (a figure-level function with similar flexibility) or `histplot` (an axes-level function for histograms).\n",
      "  warnings.warn(msg, FutureWarning)\n"
     ]
    },
    {
     "data": {
      "text/plain": [
       "<AxesSubplot:xlabel='BMXHT', ylabel='Density'>"
      ]
     },
     "execution_count": 27,
     "metadata": {},
     "output_type": "execute_result"
    },
    {
     "data": {
      "image/png": "[encoded data removed]",
      "text/plain": [
       "<Figure size 432x288 with 1 Axes>"
      ]
     },
     "metadata": {
      "needs_background": "light"
     },
     "output_type": "display_data"
    }
   ],
   "source": [
    "sns.distplot(bmxht_df['BMXHT'], bins = 500)"
   ]
  },
  {
   "cell_type": "markdown",
   "metadata": {},
   "source": [
    "__Q3a.__ Use the `bins` argument to [distplot](https://seaborn.pydata.org/generated/seaborn.distplot.html) to produce histograms with different numbers of bins.  Assess whether the default value for this argument gives a meaningful result, and comment on what happens as the number of bins grows excessively large or excessively small. "
   ]
  },
  {
   "cell_type": "markdown",
   "metadata": {},
   "source": [
    "The default value of bins gives a meaningful result because when we put kde=True, we get a fair idea of why the distribution has a slight dip at the top and how it goes down on either sides. When the number of bins increases, the distribution initially seems to make more sense but at excessively high number of bins, it makes no sense at all. Same goes for excessively low number of bins, it does not give enough information on why the distribution is shaped the way it is as it appears it should be uniformly distributed with very few bins."
   ]
  },
  {
   "cell_type": "markdown",
   "metadata": {},
   "source": [
    "__Q3b.__ Make separate histograms for the heights of women and men, then make a side-by-side boxplot showing the heights of women and men."
   ]
  },
  {
   "cell_type": "code",
   "execution_count": 28,
   "metadata": {},
   "outputs": [
    {
     "data": {
      "image/png": "[encoded data removed]",
      "text/plain": [
       "<Figure size 864x720 with 1 Axes>"
      ]
     },
     "metadata": {
      "needs_background": "light"
     },
     "output_type": "display_data"
    },
    {
     "data": {
      "image/png": "[encoded data removed]",
      "text/plain": [
       "<Figure size 216x432 with 2 Axes>"
      ]
     },
     "metadata": {
      "needs_background": "light"
     },
     "output_type": "display_data"
    }
   ],
   "source": [
    "plt.figure(figsize=(12,10))\n",
    "sns.boxplot(x = da['BMXHT'], y=da['RIAGENDR_val'])\n",
    "\n",
    "g = sns.FacetGrid(da, row = 'RIAGENDR_val')\n",
    "g = g.map(plt.hist, 'BMXHT')\n",
    "plt.show()"
   ]
  },
  {
   "cell_type": "markdown",
   "metadata": {},
   "source": [
    "__Q3c.__ Comment on what features, if any are not represented clearly in the boxplots, and what features, if any, are easier to see in the boxplots than in the histograms."
   ]
  },
  {
   "cell_type": "markdown",
   "metadata": {},
   "source": [
    "In the boxplots, a lot of the outliers are stuck together which makes it difficult to see how many of them are there. Histograms help is noticing these outliers that have a larger count.\n",
    "\n",
    "The outliers that are not stuck together are easier to see in the boxplots than on the histograms as even though the hist has outliers, their small numbers gives them no height in the graph and it is easy to misinterpret this as not having any outliers.\n",
    "\n",
    "Both histograms and boxplots together give great analysis. Using one over the other would be bad as each has its own advantages."
   ]
  },
  {
   "cell_type": "markdown",
   "metadata": {},
   "source": [
    "## Question 4\n",
    "\n",
    "Make a boxplot showing the distribution of within-subject differences between the first and second systolic blood pressure measurents ([BPXSY1](https://wwwn.cdc.gov/Nchs/Nhanes/2015-2016/BPX_I.htm#BPXSY1) and [BPXSY2](https://wwwn.cdc.gov/Nchs/Nhanes/2015-2016/BPX_I.htm#BPXSY2))."
   ]
  },
  {
   "cell_type": "code",
   "execution_count": 29,
   "metadata": {},
   "outputs": [
    {
     "data": {
      "text/plain": [
       "334"
      ]
     },
     "execution_count": 29,
     "metadata": {},
     "output_type": "execute_result"
    }
   ],
   "source": [
    "da['BPXSY1'].isna().sum()"
   ]
  },
  {
   "cell_type": "code",
   "execution_count": 30,
   "metadata": {},
   "outputs": [],
   "source": [
    "bpsy = pd.DataFrame()\n",
    "bpsy = da[da['BPXSY1'].isna() == False]"
   ]
  },
  {
   "cell_type": "code",
   "execution_count": 31,
   "metadata": {},
   "outputs": [
    {
     "name": "stderr",
     "output_type": "stream",
     "text": [
      "C:\\Users\\RDTL\\AppData\\Local\\Temp\\ipykernel_25096\\3488572297.py:1: SettingWithCopyWarning: \n",
      "A value is trying to be set on a copy of a slice from a DataFrame\n",
      "\n",
      "See the caveats in the documentation: https://pandas.pydata.org/pandas-docs/stable/user_guide/indexing.html#returning-a-view-versus-a-copy\n",
      "  bpsy.dropna(inplace = True)\n"
     ]
    },
    {
     "data": {
      "text/plain": [
       "0"
      ]
     },
     "execution_count": 31,
     "metadata": {},
     "output_type": "execute_result"
    }
   ],
   "source": [
    "bpsy.dropna(inplace = True)\n",
    "bpsy.isna().sum().sum()"
   ]
  },
  {
   "cell_type": "code",
   "execution_count": 32,
   "metadata": {},
   "outputs": [
    {
     "data": {
      "image/png": "[encoded data removed]",
      "text/plain": [
       "<Figure size 432x288 with 1 Axes>"
      ]
     },
     "metadata": {
      "needs_background": "light"
     },
     "output_type": "display_data"
    }
   ],
   "source": [
    "bp = sns.boxplot(data=da.loc[:, [\"BPXSY1\", \"BPXSY2\", \"BPXDI1\", \"BPXDI2\"]])\n",
    "_ = bp.set_ylabel(\"Blood pressure in mm/Hg\")"
   ]
  },
  {
   "cell_type": "code",
   "execution_count": 33,
   "metadata": {},
   "outputs": [
    {
     "data": {
      "text/plain": [
       "False    139\n",
       "True     120\n",
       "dtype: int64"
      ]
     },
     "execution_count": 33,
     "metadata": {},
     "output_type": "execute_result"
    }
   ],
   "source": [
    "df = bpsy['BPXSY1'] > bpsy['BPXSY2']\n",
    "df.value_counts()"
   ]
  },
  {
   "cell_type": "markdown",
   "metadata": {},
   "source": [
    "__Q4a.__ What proportion of the subjects have a lower SBP on the second reading compared to the first?"
   ]
  },
  {
   "cell_type": "code",
   "execution_count": 34,
   "metadata": {},
   "outputs": [
    {
     "data": {
      "text/plain": [
       "False    139\n",
       "dtype: int64"
      ]
     },
     "execution_count": 34,
     "metadata": {},
     "output_type": "execute_result"
    }
   ],
   "source": [
    "sy2_sy1 = df[df.iloc[0:] == False]\n",
    "smaller_sy1 = sy2_sy1.value_counts()\n",
    "smaller_sy1"
   ]
  },
  {
   "cell_type": "code",
   "execution_count": 35,
   "metadata": {},
   "outputs": [
    {
     "data": {
      "text/plain": [
       "True    120\n",
       "dtype: int64"
      ]
     },
     "execution_count": 35,
     "metadata": {},
     "output_type": "execute_result"
    }
   ],
   "source": [
    "sy1_sy2 = df[df.iloc[0:] == True]\n",
    "bigger_sy1 = sy1_sy2.value_counts()\n",
    "bigger_sy1"
   ]
  },
  {
   "cell_type": "code",
   "execution_count": 36,
   "metadata": {},
   "outputs": [
    {
     "data": {
      "text/plain": [
       "0.46332046332046334"
      ]
     },
     "execution_count": 36,
     "metadata": {},
     "output_type": "execute_result"
    }
   ],
   "source": [
    "120/(120+139)"
   ]
  },
  {
   "cell_type": "markdown",
   "metadata": {},
   "source": [
    "Thus, 46% of people have a lower SBP on the second trail than the first one."
   ]
  },
  {
   "cell_type": "code",
   "execution_count": 37,
   "metadata": {},
   "outputs": [
    {
     "data": {
      "text/plain": [
       "124.85714285714286"
      ]
     },
     "execution_count": 37,
     "metadata": {},
     "output_type": "execute_result"
    }
   ],
   "source": [
    "bpsy['BPXSY1'].mean()"
   ]
  },
  {
   "cell_type": "code",
   "execution_count": 38,
   "metadata": {},
   "outputs": [
    {
     "data": {
      "text/plain": [
       "124.29343629343629"
      ]
     },
     "execution_count": 38,
     "metadata": {},
     "output_type": "execute_result"
    }
   ],
   "source": [
    "bpsy['BPXSY2'].mean()"
   ]
  },
  {
   "cell_type": "code",
   "execution_count": 39,
   "metadata": {},
   "outputs": [
    {
     "data": {
      "text/plain": [
       "204.0"
      ]
     },
     "execution_count": 39,
     "metadata": {},
     "output_type": "execute_result"
    }
   ],
   "source": [
    "bpsy['BPXSY1'].max()"
   ]
  },
  {
   "cell_type": "code",
   "execution_count": 40,
   "metadata": {},
   "outputs": [
    {
     "data": {
      "text/plain": [
       "206.0"
      ]
     },
     "execution_count": 40,
     "metadata": {},
     "output_type": "execute_result"
    }
   ],
   "source": [
    "bpsy['BPXSY2'].max()"
   ]
  },
  {
   "cell_type": "code",
   "execution_count": 41,
   "metadata": {},
   "outputs": [
    {
     "name": "stderr",
     "output_type": "stream",
     "text": [
      "c:\\Users\\RDTL\\anaconda3\\envs\\ds_off_py\\lib\\site-packages\\seaborn\\distributions.py:2619: FutureWarning: `distplot` is a deprecated function and will be removed in a future version. Please adapt your code to use either `displot` (a figure-level function with similar flexibility) or `histplot` (an axes-level function for histograms).\n",
      "  warnings.warn(msg, FutureWarning)\n"
     ]
    },
    {
     "data": {
      "text/plain": [
       "<AxesSubplot:xlabel='BPXSY1', ylabel='Density'>"
      ]
     },
     "execution_count": 41,
     "metadata": {},
     "output_type": "execute_result"
    },
    {
     "data": {
      "image/png": "[encoded data removed]",
      "text/plain": [
       "<Figure size 432x288 with 1 Axes>"
      ]
     },
     "metadata": {
      "needs_background": "light"
     },
     "output_type": "display_data"
    }
   ],
   "source": [
    "sns.distplot(bpsy['BPXSY1'])"
   ]
  },
  {
   "cell_type": "code",
   "execution_count": 42,
   "metadata": {},
   "outputs": [
    {
     "name": "stderr",
     "output_type": "stream",
     "text": [
      "c:\\Users\\RDTL\\anaconda3\\envs\\ds_off_py\\lib\\site-packages\\seaborn\\distributions.py:2619: FutureWarning: `distplot` is a deprecated function and will be removed in a future version. Please adapt your code to use either `displot` (a figure-level function with similar flexibility) or `histplot` (an axes-level function for histograms).\n",
      "  warnings.warn(msg, FutureWarning)\n"
     ]
    },
    {
     "data": {
      "text/plain": [
       "<AxesSubplot:xlabel='BPXSY2', ylabel='Density'>"
      ]
     },
     "execution_count": 42,
     "metadata": {},
     "output_type": "execute_result"
    },
    {
     "data": {
      "image/png": "[encoded data removed]",
      "text/plain": [
       "<Figure size 432x288 with 1 Axes>"
      ]
     },
     "metadata": {
      "needs_background": "light"
     },
     "output_type": "display_data"
    }
   ],
   "source": [
    "sns.distplot(bpsy['BPXSY2'])"
   ]
  },
  {
   "cell_type": "markdown",
   "metadata": {},
   "source": [
    "__Q4b.__ Make side-by-side boxplots of the two systolic blood pressure variables."
   ]
  },
  {
   "cell_type": "code",
   "execution_count": 43,
   "metadata": {},
   "outputs": [
    {
     "data": {
      "image/png": "[encoded data removed]",
      "text/plain": [
       "<Figure size 432x288 with 1 Axes>"
      ]
     },
     "metadata": {
      "needs_background": "light"
     },
     "output_type": "display_data"
    }
   ],
   "source": [
    "bp = sns.boxplot(data=da.loc[:, [\"BPXSY1\", \"BPXSY2\"]])\n",
    "_ = bp.set_ylabel(\"Blood pressure in mm/Hg\")"
   ]
  },
  {
   "cell_type": "markdown",
   "metadata": {},
   "source": [
    "__Q4c.__ Comment on the variation within either the first or second systolic blood pressure measurements, and the variation in the within-subject differences between the first and second systolic blood pressure measurements."
   ]
  },
  {
   "cell_type": "markdown",
   "metadata": {},
   "source": [
    "We see that the second systolic blood pressure the median is towards the left but it is right skewed. So, more people have a lower value of the systolic blood pressure on the second test and the extremes aer a little lowers than the first one.\n",
    "\n",
    "The within-subject difference between the first and the second systolic blood pressure measurements are interesting. We see that 46% of people have a lower value of Systolic blood pressure on the second test. We also notice that the mean of both the distributions are the same, however, the second systolic test has a lower minimum of 92 and a higher maximum of 206 while the first systolic has a highter minimum of 94 and a lower maximum of 204"
   ]
  },
  {
   "cell_type": "markdown",
   "metadata": {},
   "source": [
    "## Question 5\n",
    "\n",
    "Construct a frequency table of household sizes for people within each educational attainment category (the relevant variable is [DMDEDUC2](https://wwwn.cdc.gov/Nchs/Nhanes/2015-2016/DEMO_I.htm#DMDEDUC2)).  Convert the frequencies to proportions."
   ]
  },
  {
   "cell_type": "code",
   "execution_count": 44,
   "metadata": {},
   "outputs": [
    {
     "data": {
      "text/plain": [
       "0"
      ]
     },
     "execution_count": 44,
     "metadata": {},
     "output_type": "execute_result"
    }
   ],
   "source": [
    "no_null_df = da.dropna()\n",
    "no_null_df.isna().sum().sum()"
   ]
  },
  {
   "cell_type": "code",
   "execution_count": 45,
   "metadata": {},
   "outputs": [
    {
     "data": {
      "text/plain": [
       "4.0    91\n",
       "5.0    85\n",
       "3.0    49\n",
       "2.0    18\n",
       "1.0    16\n",
       "Name: DMDEDUC2, dtype: int64"
      ]
     },
     "execution_count": 45,
     "metadata": {},
     "output_type": "execute_result"
    }
   ],
   "source": [
    "no_null_df['DMDEDUC2'].value_counts()"
   ]
  },
  {
   "cell_type": "code",
   "execution_count": 46,
   "metadata": {},
   "outputs": [
    {
     "name": "stderr",
     "output_type": "stream",
     "text": [
      "C:\\Users\\RDTL\\AppData\\Local\\Temp\\ipykernel_25096\\59860075.py:1: SettingWithCopyWarning: \n",
      "A value is trying to be set on a copy of a slice from a DataFrame.\n",
      "Try using .loc[row_indexer,col_indexer] = value instead\n",
      "\n",
      "See the caveats in the documentation: https://pandas.pydata.org/pandas-docs/stable/user_guide/indexing.html#returning-a-view-versus-a-copy\n",
      "  no_null_df[\"DMDEDUC2_val\"] = da.DMDEDUC2.replace({1: \"<9\", 2: \"9-11\", 3: \"HS/GED\", 4: \"Some college/AA\", 5: \"College\",\n"
     ]
    },
    {
     "data": {
      "text/plain": [
       "Some college/AA    91\n",
       "College            85\n",
       "HS/GED             49\n",
       "9-11               18\n",
       "<9                 16\n",
       "Name: DMDEDUC2_val, dtype: int64"
      ]
     },
     "execution_count": 46,
     "metadata": {},
     "output_type": "execute_result"
    }
   ],
   "source": [
    "no_null_df[\"DMDEDUC2_val\"] = da.DMDEDUC2.replace({1: \"<9\", 2: \"9-11\", 3: \"HS/GED\", 4: \"Some college/AA\", 5: \"College\", \n",
    "                                       7: \"Refused\", 9: \"Don't know\"})\n",
    "no_null_df.DMDEDUC2_val.value_counts()"
   ]
  },
  {
   "cell_type": "code",
   "execution_count": 47,
   "metadata": {},
   "outputs": [
    {
     "name": "stderr",
     "output_type": "stream",
     "text": [
      "c:\\Users\\RDTL\\anaconda3\\envs\\ds_off_py\\lib\\site-packages\\seaborn\\distributions.py:2619: FutureWarning: `distplot` is a deprecated function and will be removed in a future version. Please adapt your code to use either `displot` (a figure-level function with similar flexibility) or `histplot` (an axes-level function for histograms).\n",
      "  warnings.warn(msg, FutureWarning)\n"
     ]
    },
    {
     "data": {
      "text/plain": [
       "<AxesSubplot:xlabel='DMDEDUC2'>"
      ]
     },
     "execution_count": 47,
     "metadata": {},
     "output_type": "execute_result"
    },
    {
     "data": {
      "image/png": "[encoded data removed]",
      "text/plain": [
       "<Figure size 432x288 with 1 Axes>"
      ]
     },
     "metadata": {
      "needs_background": "light"
     },
     "output_type": "display_data"
    }
   ],
   "source": [
    "sns.distplot(no_null_df['DMDEDUC2'], kde = False, bins = 20)"
   ]
  },
  {
   "cell_type": "code",
   "execution_count": 48,
   "metadata": {},
   "outputs": [
    {
     "data": {
      "text/plain": [
       "2    73\n",
       "4    49\n",
       "3    49\n",
       "1    40\n",
       "5    21\n",
       "6    14\n",
       "7    13\n",
       "Name: DMDHHSIZ, dtype: int64"
      ]
     },
     "execution_count": 48,
     "metadata": {},
     "output_type": "execute_result"
    }
   ],
   "source": [
    "no_null_df['DMDHHSIZ'].value_counts()"
   ]
  },
  {
   "cell_type": "code",
   "execution_count": 49,
   "metadata": {},
   "outputs": [
    {
     "name": "stderr",
     "output_type": "stream",
     "text": [
      "c:\\Users\\RDTL\\anaconda3\\envs\\ds_off_py\\lib\\site-packages\\seaborn\\distributions.py:2619: FutureWarning: `distplot` is a deprecated function and will be removed in a future version. Please adapt your code to use either `displot` (a figure-level function with similar flexibility) or `histplot` (an axes-level function for histograms).\n",
      "  warnings.warn(msg, FutureWarning)\n"
     ]
    },
    {
     "data": {
      "text/plain": [
       "<AxesSubplot:xlabel='DMDHHSIZ'>"
      ]
     },
     "execution_count": 49,
     "metadata": {},
     "output_type": "execute_result"
    },
    {
     "data": {
      "image/png": "[encoded data removed]",
      "text/plain": [
       "<Figure size 432x288 with 1 Axes>"
      ]
     },
     "metadata": {
      "needs_background": "light"
     },
     "output_type": "display_data"
    }
   ],
   "source": [
    "sns.distplot(no_null_df['DMDHHSIZ'], kde = False, bins = 20)"
   ]
  },
  {
   "cell_type": "code",
   "execution_count": 50,
   "metadata": {},
   "outputs": [
    {
     "data": {
      "image/png": "[encoded data removed]",
      "text/plain": [
       "<Figure size 1080x576 with 1 Axes>"
      ]
     },
     "metadata": {
      "needs_background": "light"
     },
     "output_type": "display_data"
    }
   ],
   "source": [
    "no_null_df.groupby(['DMDEDUC2_val', 'DMDHHSIZ']).size().unstack(fill_value=0).plot.bar(figsize = (15,8))\n",
    "plt.show()"
   ]
  },
  {
   "cell_type": "markdown",
   "metadata": {},
   "source": [
    "__Q5a.__ Comment on any major differences among the distributions."
   ]
  },
  {
   "cell_type": "markdown",
   "metadata": {},
   "source": [
    "We see that at the education level of 9-11, the household size is usually 4 implying they might be living with their parents. At the <9 level, it is majorly 2 or 3 people in the household, and the distribution is skerwed to the right (more people in the household). For all the other education levels, we see that the dist is unimodal with 2 members and right skewed. The ones with single person households are probably the people who never got married and the one's with 3 members may be people who live with their parents and havent been married or couples with only 1 child or so on."
   ]
  },
  {
   "cell_type": "markdown",
   "metadata": {},
   "source": [
    "__Q5b.__ Restrict the sample to people between 30 and 40 years of age.  Then calculate the median household size for women and men within each level of educational attainment."
   ]
  },
  {
   "cell_type": "code",
   "execution_count": 51,
   "metadata": {},
   "outputs": [
    {
     "data": {
      "image/png": "[encoded data removed]",
      "text/plain": [
       "<Figure size 1080x576 with 1 Axes>"
      ]
     },
     "metadata": {
      "needs_background": "light"
     },
     "output_type": "display_data"
    }
   ],
   "source": [
    "age_30_40_df = no_null_df.copy()\n",
    "age_30_40_df[\"agegrp\"] = pd.cut(no_null_df.RIDAGEYR, [30, 40])\n",
    "age_30_40_df.groupby(['DMDHHSIZ', 'DMDEDUC2_val']).size().unstack(fill_value=0).plot.bar(figsize = (15,8))\n",
    "plt.show()"
   ]
  },
  {
   "cell_type": "code",
   "execution_count": 52,
   "metadata": {},
   "outputs": [
    {
     "data": {
      "text/plain": [
       "3.0"
      ]
     },
     "execution_count": 52,
     "metadata": {},
     "output_type": "execute_result"
    }
   ],
   "source": [
    "age_30_40_df['DMDHHSIZ'].median()"
   ]
  },
  {
   "cell_type": "markdown",
   "metadata": {},
   "source": [
    "Therefore, the median of the household size of people aged 30-40 is 3."
   ]
  },
  {
   "cell_type": "markdown",
   "metadata": {},
   "source": [
    "## Question 6\n",
    "\n",
    "The participants can be clustered into \"maked variance units\" (MVU) based on every combination of the variables [SDMVSTRA](https://wwwn.cdc.gov/Nchs/Nhanes/2015-2016/DEMO_I.htm#SDMVSTRA) and [SDMVPSU](https://wwwn.cdc.gov/Nchs/Nhanes/2015-2016/DEMO_I.htm#SDMVPSU).  Calculate the mean age ([RIDAGEYR](https://wwwn.cdc.gov/Nchs/Nhanes/2015-2016/DEMO_I.htm#RIDAGEYR)), height ([BMXHT](https://wwwn.cdc.gov/Nchs/Nhanes/2015-2016/BMX_I.htm#BMXHT)), and BMI ([BMXBMI](https://wwwn.cdc.gov/Nchs/Nhanes/2015-2016/BMX_I.htm#BMXBMI)) for each gender ([RIAGENDR](https://wwwn.cdc.gov/Nchs/Nhanes/2015-2016/DEMO_I.htm#RIAGENDR)), within each MVU, and report the ratio between the largest and smallest mean (e.g. for height) across the MVUs."
   ]
  },
  {
   "cell_type": "code",
   "execution_count": 53,
   "metadata": {},
   "outputs": [
    {
     "data": {
      "text/html": [
       "<div>\n",
       "<style scoped>\n",
       "    .dataframe tbody tr th:only-of-type {\n",
       "        vertical-align: middle;\n",
       "    }\n",
       "\n",
       "    .dataframe tbody tr th {\n",
       "        vertical-align: top;\n",
       "    }\n",
       "\n",
       "    .dataframe thead tr th {\n",
       "        text-align: left;\n",
       "    }\n",
       "\n",
       "    .dataframe thead tr:last-of-type th {\n",
       "        text-align: right;\n",
       "    }\n",
       "</style>\n",
       "<table border=\"1\" class=\"dataframe\">\n",
       "  <thead>\n",
       "    <tr>\n",
       "      <th></th>\n",
       "      <th></th>\n",
       "      <th colspan=\"2\" halign=\"left\">RIDAGEYR</th>\n",
       "      <th colspan=\"2\" halign=\"left\">BMXHT</th>\n",
       "      <th colspan=\"2\" halign=\"left\">BMXBMI</th>\n",
       "    </tr>\n",
       "    <tr>\n",
       "      <th></th>\n",
       "      <th>RIAGENDR</th>\n",
       "      <th>1</th>\n",
       "      <th>2</th>\n",
       "      <th>1</th>\n",
       "      <th>2</th>\n",
       "      <th>1</th>\n",
       "      <th>2</th>\n",
       "    </tr>\n",
       "    <tr>\n",
       "      <th>SDMVSTRA</th>\n",
       "      <th>SDMVPSU</th>\n",
       "      <th></th>\n",
       "      <th></th>\n",
       "      <th></th>\n",
       "      <th></th>\n",
       "      <th></th>\n",
       "      <th></th>\n",
       "    </tr>\n",
       "  </thead>\n",
       "  <tbody>\n",
       "    <tr>\n",
       "      <th rowspan=\"2\" valign=\"top\">119</th>\n",
       "      <th>1</th>\n",
       "      <td>47.861111</td>\n",
       "      <td>47.663265</td>\n",
       "      <td>172.741667</td>\n",
       "      <td>159.570408</td>\n",
       "      <td>26.958333</td>\n",
       "      <td>30.052041</td>\n",
       "    </tr>\n",
       "    <tr>\n",
       "      <th>2</th>\n",
       "      <td>54.363636</td>\n",
       "      <td>52.987952</td>\n",
       "      <td>172.906818</td>\n",
       "      <td>159.244578</td>\n",
       "      <td>27.160465</td>\n",
       "      <td>27.849398</td>\n",
       "    </tr>\n",
       "    <tr>\n",
       "      <th rowspan=\"2\" valign=\"top\">120</th>\n",
       "      <th>1</th>\n",
       "      <td>43.130000</td>\n",
       "      <td>43.636364</td>\n",
       "      <td>169.537755</td>\n",
       "      <td>155.402041</td>\n",
       "      <td>30.939175</td>\n",
       "      <td>32.419388</td>\n",
       "    </tr>\n",
       "    <tr>\n",
       "      <th>2</th>\n",
       "      <td>45.219178</td>\n",
       "      <td>43.736111</td>\n",
       "      <td>173.075342</td>\n",
       "      <td>159.218056</td>\n",
       "      <td>27.727397</td>\n",
       "      <td>27.400000</td>\n",
       "    </tr>\n",
       "    <tr>\n",
       "      <th rowspan=\"2\" valign=\"top\">121</th>\n",
       "      <th>1</th>\n",
       "      <td>46.750000</td>\n",
       "      <td>44.397959</td>\n",
       "      <td>172.177885</td>\n",
       "      <td>158.871579</td>\n",
       "      <td>29.416505</td>\n",
       "      <td>30.856842</td>\n",
       "    </tr>\n",
       "    <tr>\n",
       "      <th>2</th>\n",
       "      <td>42.063158</td>\n",
       "      <td>44.376344</td>\n",
       "      <td>174.764516</td>\n",
       "      <td>160.229032</td>\n",
       "      <td>26.273118</td>\n",
       "      <td>26.470968</td>\n",
       "    </tr>\n",
       "    <tr>\n",
       "      <th rowspan=\"2\" valign=\"top\">122</th>\n",
       "      <th>1</th>\n",
       "      <td>44.653061</td>\n",
       "      <td>42.897436</td>\n",
       "      <td>173.998969</td>\n",
       "      <td>161.315385</td>\n",
       "      <td>28.528866</td>\n",
       "      <td>29.447436</td>\n",
       "    </tr>\n",
       "    <tr>\n",
       "      <th>2</th>\n",
       "      <td>44.320000</td>\n",
       "      <td>47.333333</td>\n",
       "      <td>170.332323</td>\n",
       "      <td>157.231111</td>\n",
       "      <td>25.744444</td>\n",
       "      <td>26.611111</td>\n",
       "    </tr>\n",
       "    <tr>\n",
       "      <th rowspan=\"2\" valign=\"top\">123</th>\n",
       "      <th>1</th>\n",
       "      <td>47.829787</td>\n",
       "      <td>44.841121</td>\n",
       "      <td>174.315217</td>\n",
       "      <td>162.059615</td>\n",
       "      <td>29.231522</td>\n",
       "      <td>29.905769</td>\n",
       "    </tr>\n",
       "    <tr>\n",
       "      <th>2</th>\n",
       "      <td>52.126582</td>\n",
       "      <td>46.457447</td>\n",
       "      <td>174.454430</td>\n",
       "      <td>160.476596</td>\n",
       "      <td>28.811392</td>\n",
       "      <td>30.641489</td>\n",
       "    </tr>\n",
       "    <tr>\n",
       "      <th rowspan=\"2\" valign=\"top\">124</th>\n",
       "      <th>1</th>\n",
       "      <td>50.750000</td>\n",
       "      <td>51.664000</td>\n",
       "      <td>172.109009</td>\n",
       "      <td>158.788710</td>\n",
       "      <td>28.614414</td>\n",
       "      <td>29.533065</td>\n",
       "    </tr>\n",
       "    <tr>\n",
       "      <th>2</th>\n",
       "      <td>48.245614</td>\n",
       "      <td>42.541667</td>\n",
       "      <td>174.291228</td>\n",
       "      <td>162.853521</td>\n",
       "      <td>27.714035</td>\n",
       "      <td>28.640845</td>\n",
       "    </tr>\n",
       "    <tr>\n",
       "      <th rowspan=\"2\" valign=\"top\">125</th>\n",
       "      <th>1</th>\n",
       "      <td>55.165289</td>\n",
       "      <td>50.900901</td>\n",
       "      <td>173.631092</td>\n",
       "      <td>160.762385</td>\n",
       "      <td>29.727731</td>\n",
       "      <td>30.385321</td>\n",
       "    </tr>\n",
       "    <tr>\n",
       "      <th>2</th>\n",
       "      <td>49.705882</td>\n",
       "      <td>51.660000</td>\n",
       "      <td>174.456863</td>\n",
       "      <td>160.021429</td>\n",
       "      <td>29.143564</td>\n",
       "      <td>28.564286</td>\n",
       "    </tr>\n",
       "    <tr>\n",
       "      <th rowspan=\"2\" valign=\"top\">126</th>\n",
       "      <th>1</th>\n",
       "      <td>48.416667</td>\n",
       "      <td>46.229167</td>\n",
       "      <td>175.149398</td>\n",
       "      <td>160.387500</td>\n",
       "      <td>29.033333</td>\n",
       "      <td>31.262500</td>\n",
       "    </tr>\n",
       "    <tr>\n",
       "      <th>2</th>\n",
       "      <td>48.666667</td>\n",
       "      <td>47.205882</td>\n",
       "      <td>174.713043</td>\n",
       "      <td>160.892000</td>\n",
       "      <td>29.039130</td>\n",
       "      <td>29.612121</td>\n",
       "    </tr>\n",
       "    <tr>\n",
       "      <th rowspan=\"2\" valign=\"top\">127</th>\n",
       "      <th>1</th>\n",
       "      <td>53.137931</td>\n",
       "      <td>49.694444</td>\n",
       "      <td>171.545349</td>\n",
       "      <td>157.422430</td>\n",
       "      <td>31.062353</td>\n",
       "      <td>32.189720</td>\n",
       "    </tr>\n",
       "    <tr>\n",
       "      <th>2</th>\n",
       "      <td>54.070588</td>\n",
       "      <td>51.486239</td>\n",
       "      <td>173.366667</td>\n",
       "      <td>159.022936</td>\n",
       "      <td>30.557831</td>\n",
       "      <td>30.770642</td>\n",
       "    </tr>\n",
       "    <tr>\n",
       "      <th rowspan=\"2\" valign=\"top\">128</th>\n",
       "      <th>1</th>\n",
       "      <td>53.673267</td>\n",
       "      <td>55.638462</td>\n",
       "      <td>169.325000</td>\n",
       "      <td>156.339063</td>\n",
       "      <td>31.749000</td>\n",
       "      <td>32.303125</td>\n",
       "    </tr>\n",
       "    <tr>\n",
       "      <th>2</th>\n",
       "      <td>45.822785</td>\n",
       "      <td>45.589744</td>\n",
       "      <td>172.400000</td>\n",
       "      <td>160.437179</td>\n",
       "      <td>26.835443</td>\n",
       "      <td>27.491026</td>\n",
       "    </tr>\n",
       "    <tr>\n",
       "      <th rowspan=\"2\" valign=\"top\">129</th>\n",
       "      <th>1</th>\n",
       "      <td>43.922222</td>\n",
       "      <td>45.329787</td>\n",
       "      <td>171.094318</td>\n",
       "      <td>156.900000</td>\n",
       "      <td>26.493182</td>\n",
       "      <td>29.019149</td>\n",
       "    </tr>\n",
       "    <tr>\n",
       "      <th>2</th>\n",
       "      <td>45.775510</td>\n",
       "      <td>43.500000</td>\n",
       "      <td>173.138298</td>\n",
       "      <td>161.034259</td>\n",
       "      <td>28.961702</td>\n",
       "      <td>29.429630</td>\n",
       "    </tr>\n",
       "    <tr>\n",
       "      <th rowspan=\"2\" valign=\"top\">130</th>\n",
       "      <th>1</th>\n",
       "      <td>50.516854</td>\n",
       "      <td>47.810526</td>\n",
       "      <td>176.974157</td>\n",
       "      <td>161.977895</td>\n",
       "      <td>30.337079</td>\n",
       "      <td>30.700000</td>\n",
       "    </tr>\n",
       "    <tr>\n",
       "      <th>2</th>\n",
       "      <td>50.535354</td>\n",
       "      <td>50.833333</td>\n",
       "      <td>175.061224</td>\n",
       "      <td>160.060577</td>\n",
       "      <td>29.237755</td>\n",
       "      <td>31.490385</td>\n",
       "    </tr>\n",
       "    <tr>\n",
       "      <th rowspan=\"2\" valign=\"top\">131</th>\n",
       "      <th>1</th>\n",
       "      <td>53.140187</td>\n",
       "      <td>54.893617</td>\n",
       "      <td>175.610476</td>\n",
       "      <td>161.989362</td>\n",
       "      <td>28.259615</td>\n",
       "      <td>30.061702</td>\n",
       "    </tr>\n",
       "    <tr>\n",
       "      <th>2</th>\n",
       "      <td>46.778846</td>\n",
       "      <td>45.000000</td>\n",
       "      <td>175.091346</td>\n",
       "      <td>161.673810</td>\n",
       "      <td>30.077885</td>\n",
       "      <td>32.984127</td>\n",
       "    </tr>\n",
       "    <tr>\n",
       "      <th rowspan=\"2\" valign=\"top\">132</th>\n",
       "      <th>1</th>\n",
       "      <td>42.380435</td>\n",
       "      <td>43.210526</td>\n",
       "      <td>172.534066</td>\n",
       "      <td>161.508421</td>\n",
       "      <td>28.546154</td>\n",
       "      <td>29.848421</td>\n",
       "    </tr>\n",
       "    <tr>\n",
       "      <th>2</th>\n",
       "      <td>49.038760</td>\n",
       "      <td>51.700000</td>\n",
       "      <td>172.809524</td>\n",
       "      <td>159.138281</td>\n",
       "      <td>28.966667</td>\n",
       "      <td>30.540625</td>\n",
       "    </tr>\n",
       "    <tr>\n",
       "      <th rowspan=\"2\" valign=\"top\">133</th>\n",
       "      <th>1</th>\n",
       "      <td>44.054795</td>\n",
       "      <td>45.105882</td>\n",
       "      <td>171.509722</td>\n",
       "      <td>158.295122</td>\n",
       "      <td>27.495833</td>\n",
       "      <td>27.959259</td>\n",
       "    </tr>\n",
       "    <tr>\n",
       "      <th>2</th>\n",
       "      <td>47.489796</td>\n",
       "      <td>47.063158</td>\n",
       "      <td>171.179167</td>\n",
       "      <td>158.627368</td>\n",
       "      <td>27.966667</td>\n",
       "      <td>29.000000</td>\n",
       "    </tr>\n",
       "  </tbody>\n",
       "</table>\n",
       "</div>"
      ],
      "text/plain": [
       "                   RIDAGEYR                  BMXHT                 BMXBMI  \\\n",
       "RIAGENDR                  1          2           1           2          1   \n",
       "SDMVSTRA SDMVPSU                                                            \n",
       "119      1        47.861111  47.663265  172.741667  159.570408  26.958333   \n",
       "         2        54.363636  52.987952  172.906818  159.244578  27.160465   \n",
       "120      1        43.130000  43.636364  169.537755  155.402041  30.939175   \n",
       "         2        45.219178  43.736111  173.075342  159.218056  27.727397   \n",
       "121      1        46.750000  44.397959  172.177885  158.871579  29.416505   \n",
       "         2        42.063158  44.376344  174.764516  160.229032  26.273118   \n",
       "122      1        44.653061  42.897436  173.998969  161.315385  28.528866   \n",
       "         2        44.320000  47.333333  170.332323  157.231111  25.744444   \n",
       "123      1        47.829787  44.841121  174.315217  162.059615  29.231522   \n",
       "         2        52.126582  46.457447  174.454430  160.476596  28.811392   \n",
       "124      1        50.750000  51.664000  172.109009  158.788710  28.614414   \n",
       "         2        48.245614  42.541667  174.291228  162.853521  27.714035   \n",
       "125      1        55.165289  50.900901  173.631092  160.762385  29.727731   \n",
       "         2        49.705882  51.660000  174.456863  160.021429  29.143564   \n",
       "126      1        48.416667  46.229167  175.149398  160.387500  29.033333   \n",
       "         2        48.666667  47.205882  174.713043  160.892000  29.039130   \n",
       "127      1        53.137931  49.694444  171.545349  157.422430  31.062353   \n",
       "         2        54.070588  51.486239  173.366667  159.022936  30.557831   \n",
       "128      1        53.673267  55.638462  169.325000  156.339063  31.749000   \n",
       "         2        45.822785  45.589744  172.400000  160.437179  26.835443   \n",
       "129      1        43.922222  45.329787  171.094318  156.900000  26.493182   \n",
       "         2        45.775510  43.500000  173.138298  161.034259  28.961702   \n",
       "130      1        50.516854  47.810526  176.974157  161.977895  30.337079   \n",
       "         2        50.535354  50.833333  175.061224  160.060577  29.237755   \n",
       "131      1        53.140187  54.893617  175.610476  161.989362  28.259615   \n",
       "         2        46.778846  45.000000  175.091346  161.673810  30.077885   \n",
       "132      1        42.380435  43.210526  172.534066  161.508421  28.546154   \n",
       "         2        49.038760  51.700000  172.809524  159.138281  28.966667   \n",
       "133      1        44.054795  45.105882  171.509722  158.295122  27.495833   \n",
       "         2        47.489796  47.063158  171.179167  158.627368  27.966667   \n",
       "\n",
       "                             \n",
       "RIAGENDR                  2  \n",
       "SDMVSTRA SDMVPSU             \n",
       "119      1        30.052041  \n",
       "         2        27.849398  \n",
       "120      1        32.419388  \n",
       "         2        27.400000  \n",
       "121      1        30.856842  \n",
       "         2        26.470968  \n",
       "122      1        29.447436  \n",
       "         2        26.611111  \n",
       "123      1        29.905769  \n",
       "         2        30.641489  \n",
       "124      1        29.533065  \n",
       "         2        28.640845  \n",
       "125      1        30.385321  \n",
       "         2        28.564286  \n",
       "126      1        31.262500  \n",
       "         2        29.612121  \n",
       "127      1        32.189720  \n",
       "         2        30.770642  \n",
       "128      1        32.303125  \n",
       "         2        27.491026  \n",
       "129      1        29.019149  \n",
       "         2        29.429630  \n",
       "130      1        30.700000  \n",
       "         2        31.490385  \n",
       "131      1        30.061702  \n",
       "         2        32.984127  \n",
       "132      1        29.848421  \n",
       "         2        30.540625  \n",
       "133      1        27.959259  \n",
       "         2        29.000000  "
      ]
     },
     "execution_count": 53,
     "metadata": {},
     "output_type": "execute_result"
    }
   ],
   "source": [
    "(\n",
    "    (\n",
    "        da.groupby(['SDMVSTRA', 'SDMVPSU', 'RIAGENDR'])\n",
    "        [['RIDAGEYR', 'BMXHT', 'BMXBMI']]\n",
    "        .mean()\n",
    "    )\n",
    "    \n",
    ").unstack()\n"
   ]
  },
  {
   "cell_type": "markdown",
   "metadata": {},
   "source": [
    "__Q6a.__ Comment on the extent to which mean age, height, and BMI vary among the MVUs."
   ]
  },
  {
   "cell_type": "code",
   "execution_count": 54,
   "metadata": {},
   "outputs": [
    {
     "data": {
      "text/html": [
       "<div>\n",
       "<style scoped>\n",
       "    .dataframe tbody tr th:only-of-type {\n",
       "        vertical-align: middle;\n",
       "    }\n",
       "\n",
       "    .dataframe tbody tr th {\n",
       "        vertical-align: top;\n",
       "    }\n",
       "\n",
       "    .dataframe thead tr th {\n",
       "        text-align: left;\n",
       "    }\n",
       "\n",
       "    .dataframe thead tr:last-of-type th {\n",
       "        text-align: right;\n",
       "    }\n",
       "</style>\n",
       "<table border=\"1\" class=\"dataframe\">\n",
       "  <thead>\n",
       "    <tr>\n",
       "      <th></th>\n",
       "      <th></th>\n",
       "      <th colspan=\"2\" halign=\"left\">RIDAGEYR</th>\n",
       "      <th colspan=\"2\" halign=\"left\">BMXHT</th>\n",
       "      <th colspan=\"2\" halign=\"left\">BMXBMI</th>\n",
       "    </tr>\n",
       "    <tr>\n",
       "      <th></th>\n",
       "      <th>RIAGENDR</th>\n",
       "      <th>1</th>\n",
       "      <th>2</th>\n",
       "      <th>1</th>\n",
       "      <th>2</th>\n",
       "      <th>1</th>\n",
       "      <th>2</th>\n",
       "    </tr>\n",
       "    <tr>\n",
       "      <th>SDMVSTRA</th>\n",
       "      <th>SDMVPSU</th>\n",
       "      <th></th>\n",
       "      <th></th>\n",
       "      <th></th>\n",
       "      <th></th>\n",
       "      <th></th>\n",
       "      <th></th>\n",
       "    </tr>\n",
       "  </thead>\n",
       "  <tbody>\n",
       "    <tr>\n",
       "      <th rowspan=\"2\" valign=\"top\">119</th>\n",
       "      <th>1</th>\n",
       "      <td>4.444444</td>\n",
       "      <td>4.444444</td>\n",
       "      <td>1.231270</td>\n",
       "      <td>1.221838</td>\n",
       "      <td>2.994413</td>\n",
       "      <td>3.256684</td>\n",
       "    </tr>\n",
       "    <tr>\n",
       "      <th>2</th>\n",
       "      <td>4.000000</td>\n",
       "      <td>4.444444</td>\n",
       "      <td>1.269385</td>\n",
       "      <td>1.267041</td>\n",
       "      <td>2.224390</td>\n",
       "      <td>4.045161</td>\n",
       "    </tr>\n",
       "    <tr>\n",
       "      <th rowspan=\"2\" valign=\"top\">120</th>\n",
       "      <th>1</th>\n",
       "      <td>4.444444</td>\n",
       "      <td>4.444444</td>\n",
       "      <td>1.297715</td>\n",
       "      <td>1.254360</td>\n",
       "      <td>3.042105</td>\n",
       "      <td>3.666667</td>\n",
       "    </tr>\n",
       "    <tr>\n",
       "      <th>2</th>\n",
       "      <td>4.444444</td>\n",
       "      <td>4.444444</td>\n",
       "      <td>1.271065</td>\n",
       "      <td>1.296011</td>\n",
       "      <td>2.875000</td>\n",
       "      <td>2.443182</td>\n",
       "    </tr>\n",
       "    <tr>\n",
       "      <th rowspan=\"2\" valign=\"top\">121</th>\n",
       "      <th>1</th>\n",
       "      <td>4.444444</td>\n",
       "      <td>4.444444</td>\n",
       "      <td>1.252324</td>\n",
       "      <td>1.308458</td>\n",
       "      <td>3.104938</td>\n",
       "      <td>2.538462</td>\n",
       "    </tr>\n",
       "    <tr>\n",
       "      <th>2</th>\n",
       "      <td>4.444444</td>\n",
       "      <td>4.444444</td>\n",
       "      <td>1.296036</td>\n",
       "      <td>1.249319</td>\n",
       "      <td>2.542373</td>\n",
       "      <td>3.349112</td>\n",
       "    </tr>\n",
       "    <tr>\n",
       "      <th rowspan=\"2\" valign=\"top\">122</th>\n",
       "      <th>1</th>\n",
       "      <td>4.444444</td>\n",
       "      <td>4.444444</td>\n",
       "      <td>1.244646</td>\n",
       "      <td>1.232877</td>\n",
       "      <td>3.284916</td>\n",
       "      <td>3.066298</td>\n",
       "    </tr>\n",
       "    <tr>\n",
       "      <th>2</th>\n",
       "      <td>4.444444</td>\n",
       "      <td>4.444444</td>\n",
       "      <td>1.272849</td>\n",
       "      <td>1.214035</td>\n",
       "      <td>1.902703</td>\n",
       "      <td>2.730539</td>\n",
       "    </tr>\n",
       "    <tr>\n",
       "      <th rowspan=\"2\" valign=\"top\">123</th>\n",
       "      <th>1</th>\n",
       "      <td>4.444444</td>\n",
       "      <td>4.444444</td>\n",
       "      <td>1.210127</td>\n",
       "      <td>1.262143</td>\n",
       "      <td>3.039548</td>\n",
       "      <td>2.483333</td>\n",
       "    </tr>\n",
       "    <tr>\n",
       "      <th>2</th>\n",
       "      <td>4.210526</td>\n",
       "      <td>4.444444</td>\n",
       "      <td>1.290116</td>\n",
       "      <td>1.237474</td>\n",
       "      <td>3.275000</td>\n",
       "      <td>2.947917</td>\n",
       "    </tr>\n",
       "    <tr>\n",
       "      <th rowspan=\"2\" valign=\"top\">124</th>\n",
       "      <th>1</th>\n",
       "      <td>4.210526</td>\n",
       "      <td>4.444444</td>\n",
       "      <td>1.214700</td>\n",
       "      <td>1.259393</td>\n",
       "      <td>2.212871</td>\n",
       "      <td>3.656627</td>\n",
       "    </tr>\n",
       "    <tr>\n",
       "      <th>2</th>\n",
       "      <td>4.210526</td>\n",
       "      <td>4.444444</td>\n",
       "      <td>1.204545</td>\n",
       "      <td>1.216480</td>\n",
       "      <td>2.436464</td>\n",
       "      <td>3.530387</td>\n",
       "    </tr>\n",
       "    <tr>\n",
       "      <th rowspan=\"2\" valign=\"top\">125</th>\n",
       "      <th>1</th>\n",
       "      <td>4.444444</td>\n",
       "      <td>4.444444</td>\n",
       "      <td>1.266364</td>\n",
       "      <td>1.230070</td>\n",
       "      <td>3.271605</td>\n",
       "      <td>2.948571</td>\n",
       "    </tr>\n",
       "    <tr>\n",
       "      <th>2</th>\n",
       "      <td>4.444444</td>\n",
       "      <td>4.444444</td>\n",
       "      <td>1.229072</td>\n",
       "      <td>1.248281</td>\n",
       "      <td>2.420765</td>\n",
       "      <td>3.437126</td>\n",
       "    </tr>\n",
       "    <tr>\n",
       "      <th rowspan=\"2\" valign=\"top\">126</th>\n",
       "      <th>1</th>\n",
       "      <td>4.210526</td>\n",
       "      <td>4.210526</td>\n",
       "      <td>1.224347</td>\n",
       "      <td>1.223684</td>\n",
       "      <td>2.769231</td>\n",
       "      <td>3.395210</td>\n",
       "    </tr>\n",
       "    <tr>\n",
       "      <th>2</th>\n",
       "      <td>4.444444</td>\n",
       "      <td>4.444444</td>\n",
       "      <td>1.244715</td>\n",
       "      <td>1.217753</td>\n",
       "      <td>2.355670</td>\n",
       "      <td>3.226994</td>\n",
       "    </tr>\n",
       "    <tr>\n",
       "      <th rowspan=\"2\" valign=\"top\">127</th>\n",
       "      <th>1</th>\n",
       "      <td>4.444444</td>\n",
       "      <td>4.444444</td>\n",
       "      <td>1.219481</td>\n",
       "      <td>1.226573</td>\n",
       "      <td>3.220930</td>\n",
       "      <td>3.195531</td>\n",
       "    </tr>\n",
       "    <tr>\n",
       "      <th>2</th>\n",
       "      <td>4.444444</td>\n",
       "      <td>4.444444</td>\n",
       "      <td>1.223082</td>\n",
       "      <td>1.267626</td>\n",
       "      <td>2.704142</td>\n",
       "      <td>3.184971</td>\n",
       "    </tr>\n",
       "    <tr>\n",
       "      <th rowspan=\"2\" valign=\"top\">128</th>\n",
       "      <th>1</th>\n",
       "      <td>4.444444</td>\n",
       "      <td>4.000000</td>\n",
       "      <td>1.359029</td>\n",
       "      <td>1.277698</td>\n",
       "      <td>2.577114</td>\n",
       "      <td>3.160428</td>\n",
       "    </tr>\n",
       "    <tr>\n",
       "      <th>2</th>\n",
       "      <td>4.444444</td>\n",
       "      <td>4.444444</td>\n",
       "      <td>1.271883</td>\n",
       "      <td>1.223135</td>\n",
       "      <td>2.734940</td>\n",
       "      <td>3.434483</td>\n",
       "    </tr>\n",
       "    <tr>\n",
       "      <th rowspan=\"2\" valign=\"top\">129</th>\n",
       "      <th>1</th>\n",
       "      <td>4.444444</td>\n",
       "      <td>4.444444</td>\n",
       "      <td>1.209941</td>\n",
       "      <td>1.350810</td>\n",
       "      <td>2.124324</td>\n",
       "      <td>2.806630</td>\n",
       "    </tr>\n",
       "    <tr>\n",
       "      <th>2</th>\n",
       "      <td>4.444444</td>\n",
       "      <td>4.444444</td>\n",
       "      <td>1.250484</td>\n",
       "      <td>1.245775</td>\n",
       "      <td>3.039326</td>\n",
       "      <td>3.413408</td>\n",
       "    </tr>\n",
       "    <tr>\n",
       "      <th rowspan=\"2\" valign=\"top\">130</th>\n",
       "      <th>1</th>\n",
       "      <td>4.444444</td>\n",
       "      <td>4.444444</td>\n",
       "      <td>1.224691</td>\n",
       "      <td>1.227972</td>\n",
       "      <td>3.457831</td>\n",
       "      <td>3.261538</td>\n",
       "    </tr>\n",
       "    <tr>\n",
       "      <th>2</th>\n",
       "      <td>4.444444</td>\n",
       "      <td>4.000000</td>\n",
       "      <td>1.255995</td>\n",
       "      <td>1.288210</td>\n",
       "      <td>2.994475</td>\n",
       "      <td>3.875862</td>\n",
       "    </tr>\n",
       "    <tr>\n",
       "      <th rowspan=\"2\" valign=\"top\">131</th>\n",
       "      <th>1</th>\n",
       "      <td>4.210526</td>\n",
       "      <td>4.444444</td>\n",
       "      <td>1.203232</td>\n",
       "      <td>1.220938</td>\n",
       "      <td>3.357616</td>\n",
       "      <td>3.444444</td>\n",
       "    </tr>\n",
       "    <tr>\n",
       "      <th>2</th>\n",
       "      <td>4.444444</td>\n",
       "      <td>4.444444</td>\n",
       "      <td>1.204759</td>\n",
       "      <td>1.203528</td>\n",
       "      <td>2.713568</td>\n",
       "      <td>3.822485</td>\n",
       "    </tr>\n",
       "    <tr>\n",
       "      <th rowspan=\"2\" valign=\"top\">132</th>\n",
       "      <th>1</th>\n",
       "      <td>4.111111</td>\n",
       "      <td>4.210526</td>\n",
       "      <td>1.268568</td>\n",
       "      <td>1.198903</td>\n",
       "      <td>2.432161</td>\n",
       "      <td>3.121212</td>\n",
       "    </tr>\n",
       "    <tr>\n",
       "      <th>2</th>\n",
       "      <td>4.444444</td>\n",
       "      <td>4.444444</td>\n",
       "      <td>1.292895</td>\n",
       "      <td>1.275562</td>\n",
       "      <td>3.512195</td>\n",
       "      <td>4.078788</td>\n",
       "    </tr>\n",
       "    <tr>\n",
       "      <th rowspan=\"2\" valign=\"top\">133</th>\n",
       "      <th>1</th>\n",
       "      <td>4.444444</td>\n",
       "      <td>4.444444</td>\n",
       "      <td>1.265293</td>\n",
       "      <td>1.273934</td>\n",
       "      <td>2.502762</td>\n",
       "      <td>2.969512</td>\n",
       "    </tr>\n",
       "    <tr>\n",
       "      <th>2</th>\n",
       "      <td>4.444444</td>\n",
       "      <td>4.444444</td>\n",
       "      <td>1.372161</td>\n",
       "      <td>1.202364</td>\n",
       "      <td>3.222222</td>\n",
       "      <td>3.706897</td>\n",
       "    </tr>\n",
       "  </tbody>\n",
       "</table>\n",
       "</div>"
      ],
      "text/plain": [
       "                  RIDAGEYR               BMXHT              BMXBMI          \n",
       "RIAGENDR                 1         2         1         2         1         2\n",
       "SDMVSTRA SDMVPSU                                                            \n",
       "119      1        4.444444  4.444444  1.231270  1.221838  2.994413  3.256684\n",
       "         2        4.000000  4.444444  1.269385  1.267041  2.224390  4.045161\n",
       "120      1        4.444444  4.444444  1.297715  1.254360  3.042105  3.666667\n",
       "         2        4.444444  4.444444  1.271065  1.296011  2.875000  2.443182\n",
       "121      1        4.444444  4.444444  1.252324  1.308458  3.104938  2.538462\n",
       "         2        4.444444  4.444444  1.296036  1.249319  2.542373  3.349112\n",
       "122      1        4.444444  4.444444  1.244646  1.232877  3.284916  3.066298\n",
       "         2        4.444444  4.444444  1.272849  1.214035  1.902703  2.730539\n",
       "123      1        4.444444  4.444444  1.210127  1.262143  3.039548  2.483333\n",
       "         2        4.210526  4.444444  1.290116  1.237474  3.275000  2.947917\n",
       "124      1        4.210526  4.444444  1.214700  1.259393  2.212871  3.656627\n",
       "         2        4.210526  4.444444  1.204545  1.216480  2.436464  3.530387\n",
       "125      1        4.444444  4.444444  1.266364  1.230070  3.271605  2.948571\n",
       "         2        4.444444  4.444444  1.229072  1.248281  2.420765  3.437126\n",
       "126      1        4.210526  4.210526  1.224347  1.223684  2.769231  3.395210\n",
       "         2        4.444444  4.444444  1.244715  1.217753  2.355670  3.226994\n",
       "127      1        4.444444  4.444444  1.219481  1.226573  3.220930  3.195531\n",
       "         2        4.444444  4.444444  1.223082  1.267626  2.704142  3.184971\n",
       "128      1        4.444444  4.000000  1.359029  1.277698  2.577114  3.160428\n",
       "         2        4.444444  4.444444  1.271883  1.223135  2.734940  3.434483\n",
       "129      1        4.444444  4.444444  1.209941  1.350810  2.124324  2.806630\n",
       "         2        4.444444  4.444444  1.250484  1.245775  3.039326  3.413408\n",
       "130      1        4.444444  4.444444  1.224691  1.227972  3.457831  3.261538\n",
       "         2        4.444444  4.000000  1.255995  1.288210  2.994475  3.875862\n",
       "131      1        4.210526  4.444444  1.203232  1.220938  3.357616  3.444444\n",
       "         2        4.444444  4.444444  1.204759  1.203528  2.713568  3.822485\n",
       "132      1        4.111111  4.210526  1.268568  1.198903  2.432161  3.121212\n",
       "         2        4.444444  4.444444  1.292895  1.275562  3.512195  4.078788\n",
       "133      1        4.444444  4.444444  1.265293  1.273934  2.502762  2.969512\n",
       "         2        4.444444  4.444444  1.372161  1.202364  3.222222  3.706897"
      ]
     },
     "execution_count": 54,
     "metadata": {},
     "output_type": "execute_result"
    }
   ],
   "source": [
    "(\n",
    "    (\n",
    "        da.groupby(['SDMVSTRA', 'SDMVPSU', 'RIAGENDR'])\n",
    "        [['RIDAGEYR', 'BMXHT', 'BMXBMI']]\n",
    "        .max()\n",
    "    )\n",
    "    /\n",
    "    (\n",
    "        da.groupby(['SDMVSTRA', 'SDMVPSU', 'RIAGENDR'])\n",
    "        [['RIDAGEYR', 'BMXHT', 'BMXBMI']]\n",
    "        .min()\n",
    "    )\n",
    ").unstack()"
   ]
  },
  {
   "cell_type": "markdown",
   "metadata": {},
   "source": [
    "__Q6b.__ Calculate the inter-quartile range (IQR) for age, height, and BMI for each gender and each MVU.  Report the ratio between the largest and smalles IQR across the MVUs."
   ]
  },
  {
   "cell_type": "code",
   "execution_count": 55,
   "metadata": {},
   "outputs": [
    {
     "data": {
      "text/html": [
       "<div>\n",
       "<style scoped>\n",
       "    .dataframe tbody tr th:only-of-type {\n",
       "        vertical-align: middle;\n",
       "    }\n",
       "\n",
       "    .dataframe tbody tr th {\n",
       "        vertical-align: top;\n",
       "    }\n",
       "\n",
       "    .dataframe thead tr th {\n",
       "        text-align: left;\n",
       "    }\n",
       "\n",
       "    .dataframe thead tr:last-of-type th {\n",
       "        text-align: right;\n",
       "    }\n",
       "</style>\n",
       "<table border=\"1\" class=\"dataframe\">\n",
       "  <thead>\n",
       "    <tr>\n",
       "      <th></th>\n",
       "      <th></th>\n",
       "      <th colspan=\"2\" halign=\"left\">RIDAGEYR</th>\n",
       "      <th colspan=\"2\" halign=\"left\">BMXHT</th>\n",
       "      <th colspan=\"2\" halign=\"left\">BMXBMI</th>\n",
       "    </tr>\n",
       "    <tr>\n",
       "      <th></th>\n",
       "      <th>RIAGENDR</th>\n",
       "      <th>1</th>\n",
       "      <th>2</th>\n",
       "      <th>1</th>\n",
       "      <th>2</th>\n",
       "      <th>1</th>\n",
       "      <th>2</th>\n",
       "    </tr>\n",
       "    <tr>\n",
       "      <th>SDMVSTRA</th>\n",
       "      <th>SDMVPSU</th>\n",
       "      <th></th>\n",
       "      <th></th>\n",
       "      <th></th>\n",
       "      <th></th>\n",
       "      <th></th>\n",
       "      <th></th>\n",
       "    </tr>\n",
       "  </thead>\n",
       "  <tbody>\n",
       "    <tr>\n",
       "      <th rowspan=\"2\" valign=\"top\">119</th>\n",
       "      <th>1</th>\n",
       "      <td>29.75</td>\n",
       "      <td>31.25</td>\n",
       "      <td>9.000</td>\n",
       "      <td>9.325</td>\n",
       "      <td>5.350</td>\n",
       "      <td>9.750</td>\n",
       "    </tr>\n",
       "    <tr>\n",
       "      <th>2</th>\n",
       "      <td>29.00</td>\n",
       "      <td>33.50</td>\n",
       "      <td>11.225</td>\n",
       "      <td>9.950</td>\n",
       "      <td>5.300</td>\n",
       "      <td>9.350</td>\n",
       "    </tr>\n",
       "    <tr>\n",
       "      <th rowspan=\"2\" valign=\"top\">120</th>\n",
       "      <th>1</th>\n",
       "      <td>23.75</td>\n",
       "      <td>26.50</td>\n",
       "      <td>12.125</td>\n",
       "      <td>8.750</td>\n",
       "      <td>9.400</td>\n",
       "      <td>8.775</td>\n",
       "    </tr>\n",
       "    <tr>\n",
       "      <th>2</th>\n",
       "      <td>26.00</td>\n",
       "      <td>25.75</td>\n",
       "      <td>10.500</td>\n",
       "      <td>10.550</td>\n",
       "      <td>7.100</td>\n",
       "      <td>7.750</td>\n",
       "    </tr>\n",
       "    <tr>\n",
       "      <th rowspan=\"2\" valign=\"top\">121</th>\n",
       "      <th>1</th>\n",
       "      <td>34.50</td>\n",
       "      <td>26.25</td>\n",
       "      <td>10.725</td>\n",
       "      <td>9.150</td>\n",
       "      <td>7.500</td>\n",
       "      <td>9.000</td>\n",
       "    </tr>\n",
       "    <tr>\n",
       "      <th>2</th>\n",
       "      <td>25.50</td>\n",
       "      <td>26.00</td>\n",
       "      <td>8.600</td>\n",
       "      <td>9.600</td>\n",
       "      <td>5.700</td>\n",
       "      <td>8.100</td>\n",
       "    </tr>\n",
       "    <tr>\n",
       "      <th rowspan=\"2\" valign=\"top\">122</th>\n",
       "      <th>1</th>\n",
       "      <td>29.50</td>\n",
       "      <td>24.00</td>\n",
       "      <td>9.400</td>\n",
       "      <td>10.400</td>\n",
       "      <td>7.700</td>\n",
       "      <td>9.875</td>\n",
       "    </tr>\n",
       "    <tr>\n",
       "      <th>2</th>\n",
       "      <td>30.00</td>\n",
       "      <td>25.00</td>\n",
       "      <td>10.150</td>\n",
       "      <td>7.575</td>\n",
       "      <td>4.100</td>\n",
       "      <td>8.475</td>\n",
       "    </tr>\n",
       "    <tr>\n",
       "      <th rowspan=\"2\" valign=\"top\">123</th>\n",
       "      <th>1</th>\n",
       "      <td>28.25</td>\n",
       "      <td>30.50</td>\n",
       "      <td>9.350</td>\n",
       "      <td>9.675</td>\n",
       "      <td>8.050</td>\n",
       "      <td>10.450</td>\n",
       "    </tr>\n",
       "    <tr>\n",
       "      <th>2</th>\n",
       "      <td>31.50</td>\n",
       "      <td>34.50</td>\n",
       "      <td>9.900</td>\n",
       "      <td>11.200</td>\n",
       "      <td>8.100</td>\n",
       "      <td>9.975</td>\n",
       "    </tr>\n",
       "    <tr>\n",
       "      <th rowspan=\"2\" valign=\"top\">124</th>\n",
       "      <th>1</th>\n",
       "      <td>32.00</td>\n",
       "      <td>27.00</td>\n",
       "      <td>9.800</td>\n",
       "      <td>8.375</td>\n",
       "      <td>6.100</td>\n",
       "      <td>8.950</td>\n",
       "    </tr>\n",
       "    <tr>\n",
       "      <th>2</th>\n",
       "      <td>31.00</td>\n",
       "      <td>23.50</td>\n",
       "      <td>11.600</td>\n",
       "      <td>8.650</td>\n",
       "      <td>8.700</td>\n",
       "      <td>9.000</td>\n",
       "    </tr>\n",
       "    <tr>\n",
       "      <th rowspan=\"2\" valign=\"top\">125</th>\n",
       "      <th>1</th>\n",
       "      <td>29.00</td>\n",
       "      <td>31.00</td>\n",
       "      <td>10.350</td>\n",
       "      <td>9.100</td>\n",
       "      <td>8.300</td>\n",
       "      <td>8.000</td>\n",
       "    </tr>\n",
       "    <tr>\n",
       "      <th>2</th>\n",
       "      <td>33.50</td>\n",
       "      <td>32.25</td>\n",
       "      <td>7.925</td>\n",
       "      <td>10.675</td>\n",
       "      <td>7.900</td>\n",
       "      <td>10.325</td>\n",
       "    </tr>\n",
       "    <tr>\n",
       "      <th rowspan=\"2\" valign=\"top\">126</th>\n",
       "      <th>1</th>\n",
       "      <td>36.25</td>\n",
       "      <td>30.25</td>\n",
       "      <td>10.450</td>\n",
       "      <td>8.500</td>\n",
       "      <td>8.000</td>\n",
       "      <td>10.675</td>\n",
       "    </tr>\n",
       "    <tr>\n",
       "      <th>2</th>\n",
       "      <td>34.00</td>\n",
       "      <td>31.75</td>\n",
       "      <td>8.125</td>\n",
       "      <td>12.025</td>\n",
       "      <td>6.850</td>\n",
       "      <td>10.350</td>\n",
       "    </tr>\n",
       "    <tr>\n",
       "      <th rowspan=\"2\" valign=\"top\">127</th>\n",
       "      <th>1</th>\n",
       "      <td>30.00</td>\n",
       "      <td>27.25</td>\n",
       "      <td>9.025</td>\n",
       "      <td>7.700</td>\n",
       "      <td>8.200</td>\n",
       "      <td>11.750</td>\n",
       "    </tr>\n",
       "    <tr>\n",
       "      <th>2</th>\n",
       "      <td>28.00</td>\n",
       "      <td>30.00</td>\n",
       "      <td>10.750</td>\n",
       "      <td>11.600</td>\n",
       "      <td>5.950</td>\n",
       "      <td>9.200</td>\n",
       "    </tr>\n",
       "    <tr>\n",
       "      <th rowspan=\"2\" valign=\"top\">128</th>\n",
       "      <th>1</th>\n",
       "      <td>33.00</td>\n",
       "      <td>28.00</td>\n",
       "      <td>9.950</td>\n",
       "      <td>9.125</td>\n",
       "      <td>6.675</td>\n",
       "      <td>8.500</td>\n",
       "    </tr>\n",
       "    <tr>\n",
       "      <th>2</th>\n",
       "      <td>25.50</td>\n",
       "      <td>22.00</td>\n",
       "      <td>9.850</td>\n",
       "      <td>10.650</td>\n",
       "      <td>5.800</td>\n",
       "      <td>9.375</td>\n",
       "    </tr>\n",
       "    <tr>\n",
       "      <th rowspan=\"2\" valign=\"top\">129</th>\n",
       "      <th>1</th>\n",
       "      <td>20.75</td>\n",
       "      <td>24.75</td>\n",
       "      <td>12.300</td>\n",
       "      <td>10.375</td>\n",
       "      <td>6.025</td>\n",
       "      <td>9.500</td>\n",
       "    </tr>\n",
       "    <tr>\n",
       "      <th>2</th>\n",
       "      <td>30.75</td>\n",
       "      <td>26.25</td>\n",
       "      <td>10.700</td>\n",
       "      <td>8.900</td>\n",
       "      <td>5.800</td>\n",
       "      <td>9.725</td>\n",
       "    </tr>\n",
       "    <tr>\n",
       "      <th rowspan=\"2\" valign=\"top\">130</th>\n",
       "      <th>1</th>\n",
       "      <td>36.00</td>\n",
       "      <td>35.50</td>\n",
       "      <td>9.900</td>\n",
       "      <td>8.650</td>\n",
       "      <td>6.700</td>\n",
       "      <td>11.200</td>\n",
       "    </tr>\n",
       "    <tr>\n",
       "      <th>2</th>\n",
       "      <td>28.50</td>\n",
       "      <td>30.25</td>\n",
       "      <td>8.625</td>\n",
       "      <td>10.225</td>\n",
       "      <td>8.375</td>\n",
       "      <td>8.050</td>\n",
       "    </tr>\n",
       "    <tr>\n",
       "      <th rowspan=\"2\" valign=\"top\">131</th>\n",
       "      <th>1</th>\n",
       "      <td>36.00</td>\n",
       "      <td>35.75</td>\n",
       "      <td>10.500</td>\n",
       "      <td>10.025</td>\n",
       "      <td>7.525</td>\n",
       "      <td>11.075</td>\n",
       "    </tr>\n",
       "    <tr>\n",
       "      <th>2</th>\n",
       "      <td>28.00</td>\n",
       "      <td>24.00</td>\n",
       "      <td>7.750</td>\n",
       "      <td>7.575</td>\n",
       "      <td>7.850</td>\n",
       "      <td>10.625</td>\n",
       "    </tr>\n",
       "    <tr>\n",
       "      <th rowspan=\"2\" valign=\"top\">132</th>\n",
       "      <th>1</th>\n",
       "      <td>21.25</td>\n",
       "      <td>30.00</td>\n",
       "      <td>10.600</td>\n",
       "      <td>10.950</td>\n",
       "      <td>6.600</td>\n",
       "      <td>10.700</td>\n",
       "    </tr>\n",
       "    <tr>\n",
       "      <th>2</th>\n",
       "      <td>38.00</td>\n",
       "      <td>33.00</td>\n",
       "      <td>10.550</td>\n",
       "      <td>10.100</td>\n",
       "      <td>9.600</td>\n",
       "      <td>11.750</td>\n",
       "    </tr>\n",
       "    <tr>\n",
       "      <th rowspan=\"2\" valign=\"top\">133</th>\n",
       "      <th>1</th>\n",
       "      <td>33.00</td>\n",
       "      <td>34.00</td>\n",
       "      <td>8.925</td>\n",
       "      <td>10.300</td>\n",
       "      <td>6.425</td>\n",
       "      <td>8.300</td>\n",
       "    </tr>\n",
       "    <tr>\n",
       "      <th>2</th>\n",
       "      <td>32.25</td>\n",
       "      <td>28.50</td>\n",
       "      <td>8.850</td>\n",
       "      <td>9.550</td>\n",
       "      <td>5.900</td>\n",
       "      <td>9.650</td>\n",
       "    </tr>\n",
       "  </tbody>\n",
       "</table>\n",
       "</div>"
      ],
      "text/plain": [
       "                 RIDAGEYR          BMXHT         BMXBMI        \n",
       "RIAGENDR                1      2       1       2      1       2\n",
       "SDMVSTRA SDMVPSU                                               \n",
       "119      1          29.75  31.25   9.000   9.325  5.350   9.750\n",
       "         2          29.00  33.50  11.225   9.950  5.300   9.350\n",
       "120      1          23.75  26.50  12.125   8.750  9.400   8.775\n",
       "         2          26.00  25.75  10.500  10.550  7.100   7.750\n",
       "121      1          34.50  26.25  10.725   9.150  7.500   9.000\n",
       "         2          25.50  26.00   8.600   9.600  5.700   8.100\n",
       "122      1          29.50  24.00   9.400  10.400  7.700   9.875\n",
       "         2          30.00  25.00  10.150   7.575  4.100   8.475\n",
       "123      1          28.25  30.50   9.350   9.675  8.050  10.450\n",
       "         2          31.50  34.50   9.900  11.200  8.100   9.975\n",
       "124      1          32.00  27.00   9.800   8.375  6.100   8.950\n",
       "         2          31.00  23.50  11.600   8.650  8.700   9.000\n",
       "125      1          29.00  31.00  10.350   9.100  8.300   8.000\n",
       "         2          33.50  32.25   7.925  10.675  7.900  10.325\n",
       "126      1          36.25  30.25  10.450   8.500  8.000  10.675\n",
       "         2          34.00  31.75   8.125  12.025  6.850  10.350\n",
       "127      1          30.00  27.25   9.025   7.700  8.200  11.750\n",
       "         2          28.00  30.00  10.750  11.600  5.950   9.200\n",
       "128      1          33.00  28.00   9.950   9.125  6.675   8.500\n",
       "         2          25.50  22.00   9.850  10.650  5.800   9.375\n",
       "129      1          20.75  24.75  12.300  10.375  6.025   9.500\n",
       "         2          30.75  26.25  10.700   8.900  5.800   9.725\n",
       "130      1          36.00  35.50   9.900   8.650  6.700  11.200\n",
       "         2          28.50  30.25   8.625  10.225  8.375   8.050\n",
       "131      1          36.00  35.75  10.500  10.025  7.525  11.075\n",
       "         2          28.00  24.00   7.750   7.575  7.850  10.625\n",
       "132      1          21.25  30.00  10.600  10.950  6.600  10.700\n",
       "         2          38.00  33.00  10.550  10.100  9.600  11.750\n",
       "133      1          33.00  34.00   8.925  10.300  6.425   8.300\n",
       "         2          32.25  28.50   8.850   9.550  5.900   9.650"
      ]
     },
     "execution_count": 55,
     "metadata": {},
     "output_type": "execute_result"
    }
   ],
   "source": [
    "(\n",
    "    (\n",
    "        da.groupby(['SDMVSTRA', 'SDMVPSU', 'RIAGENDR'])\n",
    "        [['RIDAGEYR', 'BMXHT', 'BMXBMI']]\n",
    "        .quantile(0.75)\n",
    "    )\n",
    "    -\n",
    "    (\n",
    "        da.groupby(['SDMVSTRA', 'SDMVPSU', 'RIAGENDR'])\n",
    "        [['RIDAGEYR', 'BMXHT', 'BMXBMI']]\n",
    "        .quantile(0.25)\n",
    "    )\n",
    ").unstack()"
   ]
  },
  {
   "cell_type": "markdown",
   "metadata": {},
   "source": [
    "__Q6c.__ Comment on the extent to which the IQR for age, height, and BMI vary among the MVUs."
   ]
  },
  {
   "cell_type": "raw",
   "metadata": {},
   "source": []
  }
 ],
 "metadata": {
  "kernelspec": {
   "display_name": "Python 3.9.12 ('ds_off_py')",
   "language": "python",
   "name": "python3"
  },
  "language_info": {
   "codemirror_mode": {
    "name": "ipython",
    "version": 3
   },
   "file_extension": ".py",
   "mimetype": "text/x-python",
   "name": "python",
   "nbconvert_exporter": "python",
   "pygments_lexer": "ipython3",
   "version": "3.9.12"
  },
  "vscode": {
   "interpreter": {
    "hash": "b3beb77c0240aa6020c8645f2bdcb4bfb59476d6950b23e9d41a248e825f5631"
   }
  }
 },
 "nbformat": 4,
 "nbformat_minor": 2
}
