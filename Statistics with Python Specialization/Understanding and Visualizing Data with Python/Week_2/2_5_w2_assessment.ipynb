{
 "cells": [
  {
   "cell_type": "markdown",
   "metadata": {
    "colab_type": "text",
    "id": "ui8qhkEtVqVC"
   },
   "source": [
    "In this notebook, we'll ask you to find numerical summaries for a certain set of data. You will use the values of what you find in this assignment to answer questions in the quiz that follows (we've noted where specific values will be requested in the quiz, so that you can record them.)\n",
    "\n",
    "We'll also ask you to create some of the plots you have seen in previous lectures.   \n",
    "\n"
   ]
  },
  {
   "cell_type": "code",
   "execution_count": 1,
   "metadata": {
    "colab": {},
    "colab_type": "code",
    "id": "Z8hffF4GVqVE"
   },
   "outputs": [],
   "source": [
    "import numpy as np\n",
    "import pandas as pd\n",
    "import seaborn as sns\n",
    "import scipy.stats as stats\n",
    "%matplotlib inline\n",
    "import matplotlib.pyplot as plt\n",
    "pd.set_option('display.max_columns', 100)\n",
    "\n",
    "path = \"nhanes_2015_2016.csv\""
   ]
  },
  {
   "cell_type": "code",
   "execution_count": 2,
   "metadata": {
    "colab": {},
    "colab_type": "code",
    "id": "4aWn8_-iVqVH"
   },
   "outputs": [],
   "source": [
    "# First, you must import the data from the path given above\n",
    "df = pd.read_csv(\"nhanes_2015_2016.csv\")\n",
    "# using pandas, read in the csv data found at the url defined by 'path'"
   ]
  },
  {
   "cell_type": "code",
   "execution_count": 3,
   "metadata": {
    "colab": {},
    "colab_type": "code",
    "id": "vssAkE_cVqVK"
   },
   "outputs": [
    {
     "data": {
      "text/html": [
       "<div>\n",
       "<style scoped>\n",
       "    .dataframe tbody tr th:only-of-type {\n",
       "        vertical-align: middle;\n",
       "    }\n",
       "\n",
       "    .dataframe tbody tr th {\n",
       "        vertical-align: top;\n",
       "    }\n",
       "\n",
       "    .dataframe thead th {\n",
       "        text-align: right;\n",
       "    }\n",
       "</style>\n",
       "<table border=\"1\" class=\"dataframe\">\n",
       "  <thead>\n",
       "    <tr style=\"text-align: right;\">\n",
       "      <th></th>\n",
       "      <th>SEQN</th>\n",
       "      <th>ALQ101</th>\n",
       "      <th>ALQ110</th>\n",
       "      <th>ALQ130</th>\n",
       "      <th>SMQ020</th>\n",
       "      <th>RIAGENDR</th>\n",
       "      <th>RIDAGEYR</th>\n",
       "      <th>RIDRETH1</th>\n",
       "      <th>DMDCITZN</th>\n",
       "      <th>DMDEDUC2</th>\n",
       "      <th>DMDMARTL</th>\n",
       "      <th>DMDHHSIZ</th>\n",
       "      <th>WTINT2YR</th>\n",
       "      <th>SDMVPSU</th>\n",
       "      <th>SDMVSTRA</th>\n",
       "      <th>INDFMPIR</th>\n",
       "      <th>BPXSY1</th>\n",
       "      <th>BPXDI1</th>\n",
       "      <th>BPXSY2</th>\n",
       "      <th>BPXDI2</th>\n",
       "      <th>BMXWT</th>\n",
       "      <th>BMXHT</th>\n",
       "      <th>BMXBMI</th>\n",
       "      <th>BMXLEG</th>\n",
       "      <th>BMXARML</th>\n",
       "      <th>BMXARMC</th>\n",
       "      <th>BMXWAIST</th>\n",
       "      <th>HIQ210</th>\n",
       "    </tr>\n",
       "  </thead>\n",
       "  <tbody>\n",
       "    <tr>\n",
       "      <th>0</th>\n",
       "      <td>83732</td>\n",
       "      <td>1.0</td>\n",
       "      <td>NaN</td>\n",
       "      <td>1.0</td>\n",
       "      <td>1</td>\n",
       "      <td>1</td>\n",
       "      <td>62</td>\n",
       "      <td>3</td>\n",
       "      <td>1.0</td>\n",
       "      <td>5.0</td>\n",
       "      <td>1.0</td>\n",
       "      <td>2</td>\n",
       "      <td>134671.37</td>\n",
       "      <td>1</td>\n",
       "      <td>125</td>\n",
       "      <td>4.39</td>\n",
       "      <td>128.0</td>\n",
       "      <td>70.0</td>\n",
       "      <td>124.0</td>\n",
       "      <td>64.0</td>\n",
       "      <td>94.8</td>\n",
       "      <td>184.5</td>\n",
       "      <td>27.8</td>\n",
       "      <td>43.3</td>\n",
       "      <td>43.6</td>\n",
       "      <td>35.9</td>\n",
       "      <td>101.1</td>\n",
       "      <td>2.0</td>\n",
       "    </tr>\n",
       "    <tr>\n",
       "      <th>1</th>\n",
       "      <td>83733</td>\n",
       "      <td>1.0</td>\n",
       "      <td>NaN</td>\n",
       "      <td>6.0</td>\n",
       "      <td>1</td>\n",
       "      <td>1</td>\n",
       "      <td>53</td>\n",
       "      <td>3</td>\n",
       "      <td>2.0</td>\n",
       "      <td>3.0</td>\n",
       "      <td>3.0</td>\n",
       "      <td>1</td>\n",
       "      <td>24328.56</td>\n",
       "      <td>1</td>\n",
       "      <td>125</td>\n",
       "      <td>1.32</td>\n",
       "      <td>146.0</td>\n",
       "      <td>88.0</td>\n",
       "      <td>140.0</td>\n",
       "      <td>88.0</td>\n",
       "      <td>90.4</td>\n",
       "      <td>171.4</td>\n",
       "      <td>30.8</td>\n",
       "      <td>38.0</td>\n",
       "      <td>40.0</td>\n",
       "      <td>33.2</td>\n",
       "      <td>107.9</td>\n",
       "      <td>NaN</td>\n",
       "    </tr>\n",
       "    <tr>\n",
       "      <th>2</th>\n",
       "      <td>83734</td>\n",
       "      <td>1.0</td>\n",
       "      <td>NaN</td>\n",
       "      <td>NaN</td>\n",
       "      <td>1</td>\n",
       "      <td>1</td>\n",
       "      <td>78</td>\n",
       "      <td>3</td>\n",
       "      <td>1.0</td>\n",
       "      <td>3.0</td>\n",
       "      <td>1.0</td>\n",
       "      <td>2</td>\n",
       "      <td>12400.01</td>\n",
       "      <td>1</td>\n",
       "      <td>131</td>\n",
       "      <td>1.51</td>\n",
       "      <td>138.0</td>\n",
       "      <td>46.0</td>\n",
       "      <td>132.0</td>\n",
       "      <td>44.0</td>\n",
       "      <td>83.4</td>\n",
       "      <td>170.1</td>\n",
       "      <td>28.8</td>\n",
       "      <td>35.6</td>\n",
       "      <td>37.0</td>\n",
       "      <td>31.0</td>\n",
       "      <td>116.5</td>\n",
       "      <td>2.0</td>\n",
       "    </tr>\n",
       "    <tr>\n",
       "      <th>3</th>\n",
       "      <td>83735</td>\n",
       "      <td>2.0</td>\n",
       "      <td>1.0</td>\n",
       "      <td>1.0</td>\n",
       "      <td>2</td>\n",
       "      <td>2</td>\n",
       "      <td>56</td>\n",
       "      <td>3</td>\n",
       "      <td>1.0</td>\n",
       "      <td>5.0</td>\n",
       "      <td>6.0</td>\n",
       "      <td>1</td>\n",
       "      <td>102718.00</td>\n",
       "      <td>1</td>\n",
       "      <td>131</td>\n",
       "      <td>5.00</td>\n",
       "      <td>132.0</td>\n",
       "      <td>72.0</td>\n",
       "      <td>134.0</td>\n",
       "      <td>68.0</td>\n",
       "      <td>109.8</td>\n",
       "      <td>160.9</td>\n",
       "      <td>42.4</td>\n",
       "      <td>38.5</td>\n",
       "      <td>37.7</td>\n",
       "      <td>38.3</td>\n",
       "      <td>110.1</td>\n",
       "      <td>2.0</td>\n",
       "    </tr>\n",
       "    <tr>\n",
       "      <th>4</th>\n",
       "      <td>83736</td>\n",
       "      <td>2.0</td>\n",
       "      <td>1.0</td>\n",
       "      <td>1.0</td>\n",
       "      <td>2</td>\n",
       "      <td>2</td>\n",
       "      <td>42</td>\n",
       "      <td>4</td>\n",
       "      <td>1.0</td>\n",
       "      <td>4.0</td>\n",
       "      <td>3.0</td>\n",
       "      <td>5</td>\n",
       "      <td>17627.67</td>\n",
       "      <td>2</td>\n",
       "      <td>126</td>\n",
       "      <td>1.23</td>\n",
       "      <td>100.0</td>\n",
       "      <td>70.0</td>\n",
       "      <td>114.0</td>\n",
       "      <td>54.0</td>\n",
       "      <td>55.2</td>\n",
       "      <td>164.9</td>\n",
       "      <td>20.3</td>\n",
       "      <td>37.4</td>\n",
       "      <td>36.0</td>\n",
       "      <td>27.2</td>\n",
       "      <td>80.4</td>\n",
       "      <td>2.0</td>\n",
       "    </tr>\n",
       "  </tbody>\n",
       "</table>\n",
       "</div>"
      ],
      "text/plain": [
       "    SEQN  ALQ101  ALQ110  ALQ130  SMQ020  RIAGENDR  RIDAGEYR  RIDRETH1  \\\n",
       "0  83732     1.0     NaN     1.0       1         1        62         3   \n",
       "1  83733     1.0     NaN     6.0       1         1        53         3   \n",
       "2  83734     1.0     NaN     NaN       1         1        78         3   \n",
       "3  83735     2.0     1.0     1.0       2         2        56         3   \n",
       "4  83736     2.0     1.0     1.0       2         2        42         4   \n",
       "\n",
       "   DMDCITZN  DMDEDUC2  DMDMARTL  DMDHHSIZ   WTINT2YR  SDMVPSU  SDMVSTRA  \\\n",
       "0       1.0       5.0       1.0         2  134671.37        1       125   \n",
       "1       2.0       3.0       3.0         1   24328.56        1       125   \n",
       "2       1.0       3.0       1.0         2   12400.01        1       131   \n",
       "3       1.0       5.0       6.0         1  102718.00        1       131   \n",
       "4       1.0       4.0       3.0         5   17627.67        2       126   \n",
       "\n",
       "   INDFMPIR  BPXSY1  BPXDI1  BPXSY2  BPXDI2  BMXWT  BMXHT  BMXBMI  BMXLEG  \\\n",
       "0      4.39   128.0    70.0   124.0    64.0   94.8  184.5    27.8    43.3   \n",
       "1      1.32   146.0    88.0   140.0    88.0   90.4  171.4    30.8    38.0   \n",
       "2      1.51   138.0    46.0   132.0    44.0   83.4  170.1    28.8    35.6   \n",
       "3      5.00   132.0    72.0   134.0    68.0  109.8  160.9    42.4    38.5   \n",
       "4      1.23   100.0    70.0   114.0    54.0   55.2  164.9    20.3    37.4   \n",
       "\n",
       "   BMXARML  BMXARMC  BMXWAIST  HIQ210  \n",
       "0     43.6     35.9     101.1     2.0  \n",
       "1     40.0     33.2     107.9     NaN  \n",
       "2     37.0     31.0     116.5     2.0  \n",
       "3     37.7     38.3     110.1     2.0  \n",
       "4     36.0     27.2      80.4     2.0  "
      ]
     },
     "execution_count": 3,
     "metadata": {},
     "output_type": "execute_result"
    }
   ],
   "source": [
    "# Next, look at the 'head' of our DataFrame 'df'. \n",
    "\n",
    "df.head()\n",
    "    \n",
    "# If you can't remember a function, open a previous notebook or video as a reference \n",
    "# or use your favorite search engine to look for a solution"
   ]
  },
  {
   "cell_type": "markdown",
   "metadata": {
    "colab_type": "text",
    "id": "J7ugBriFVqVM"
   },
   "source": [
    "How many rows can you see when you don't put an argument into the previous method?  \n",
    "How many rows can you see if you use an int as an argument?  \n",
    "Can you use a float as an argument?"
   ]
  },
  {
   "cell_type": "code",
   "execution_count": 4,
   "metadata": {
    "colab": {},
    "colab_type": "code",
    "id": "4XSsICRaVqVN"
   },
   "outputs": [],
   "source": [
    "# Lets only consider the feature (or variable) 'BPXSY2'\n",
    "bp = df['BPXSY2']"
   ]
  },
  {
   "cell_type": "markdown",
   "metadata": {
    "colab_type": "text",
    "id": "WY9JGFQqVqVP"
   },
   "source": [
    "## Numerical Summaries\n",
    "### Find the mean (note this for the quiz that follows)"
   ]
  },
  {
   "cell_type": "code",
   "execution_count": 5,
   "metadata": {
    "colab": {},
    "colab_type": "code",
    "id": "dXuc5WUZVqVQ"
   },
   "outputs": [
    {
     "data": {
      "text/plain": [
       "124.78301716350497"
      ]
     },
     "execution_count": 5,
     "metadata": {},
     "output_type": "execute_result"
    }
   ],
   "source": [
    "# What is the mean of 'BPXSY2'?\n",
    "bp_mean = bp.mean()\n",
    "bp_mean"
   ]
  },
  {
   "cell_type": "markdown",
   "metadata": {
    "colab_type": "text",
    "id": "rPkNKQpIVqVS"
   },
   "source": [
    "In the method you used above, how are the rows of missing data treated?   \n",
    "Are the excluded entirely? Are they counted as zeros? Something else? \n",
    "If you used a library function, try looking up the documentation using the code:\n",
    "```\n",
    "help(function_you_used)\n",
    "```\n",
    "For example:\n",
    "```\n",
    "help(np.sum)\n",
    "```\n"
   ]
  },
  {
   "cell_type": "markdown",
   "metadata": {
    "colab_type": "text",
    "id": "bYSrLfPrVqVT"
   },
   "source": [
    "#### .dropna()\n",
    "To make sure we know that we aren't treating missing data in ways we don't want, lets go ahead and drop all the nans from our Series 'bp'"
   ]
  },
  {
   "cell_type": "code",
   "execution_count": 6,
   "metadata": {
    "colab": {},
    "colab_type": "code",
    "id": "CVEbGOm2VqVU"
   },
   "outputs": [],
   "source": [
    "bp = bp.dropna()"
   ]
  },
  {
   "cell_type": "markdown",
   "metadata": {
    "colab_type": "text",
    "id": "JxanzMF-VqVW"
   },
   "source": [
    "### Find the:\n",
    "* Median\n",
    "* Max\n",
    "* Min\n",
    "* Standard deviation\n",
    "* Variance\n",
    "\n",
    "\n",
    "You can implement any of these from base python (that is, without any of the imported packages), but there are simple and intuitively named functions in the numpy library for all of these. You could also use the fact that 'bp' is not just a list, but is a pandas.Series. You can find pandas.Series attributes and methods [here](https://pandas.pydata.org/pandas-docs/version/0.23.4/generated/pandas.Series.html)\n",
    "\n",
    "A large part of programming is being able to find the functions you need and to understand the documentation formatting so that you can implement the code yourself, so we highly encourage you to search the internet whenever you are unsure! "
   ]
  },
  {
   "cell_type": "markdown",
   "metadata": {
    "colab_type": "text",
    "id": "Sl2ANftxVqVX"
   },
   "source": [
    "### Example: \n",
    "Find the difference of an element in 'bp' compared with the previous element in 'bp'."
   ]
  },
  {
   "cell_type": "code",
   "execution_count": 7,
   "metadata": {
    "colab": {},
    "colab_type": "code",
    "id": "ZafG3rYOVqVX"
   },
   "outputs": [
    {
     "data": {
      "text/plain": [
       "array([ nan,  16.,  -8., ...,  30., -40.,   8.])"
      ]
     },
     "execution_count": 7,
     "metadata": {},
     "output_type": "execute_result"
    }
   ],
   "source": [
    "# Using the fact that 'bp' is a pd.Series object, can use the pd.Series method diff()\n",
    "# call this method by: pd.Series.diff()\n",
    "diff_by_series_method = bp.diff() \n",
    "# note that this returns a pd.Series object, that is, it had an index associated with it\n",
    "diff_by_series_method.values # only want to see the values, not the index and values"
   ]
  },
  {
   "cell_type": "code",
   "execution_count": 8,
   "metadata": {
    "colab": {},
    "colab_type": "code",
    "id": "SZYMNqmhVqVa"
   },
   "outputs": [
    {
     "data": {
      "text/plain": [
       "array([ 16.,  -8.,   2., ...,  30., -40.,   8.])"
      ]
     },
     "execution_count": 8,
     "metadata": {},
     "output_type": "execute_result"
    }
   ],
   "source": [
    "# Now use the numpy library instead to find the same values\n",
    "# np.diff(array)\n",
    "diff_by_np_method = np.diff(bp)\n",
    "diff_by_np_method\n",
    "# note that this returns an 'numpy.ndarray', which has no index associated with it, and therefore ignores\n",
    "# the nan we get by the Series method"
   ]
  },
  {
   "cell_type": "code",
   "execution_count": 9,
   "metadata": {
    "colab": {},
    "colab_type": "code",
    "id": "lXikUOegVqVe"
   },
   "outputs": [
    {
     "data": {
      "text/plain": [
       "array([ 16.,  -8.,   2., ...,  30., -40.,   8.])"
      ]
     },
     "execution_count": 9,
     "metadata": {},
     "output_type": "execute_result"
    }
   ],
   "source": [
    "# We could also implement this ourselves with some looping\n",
    "diff_by_me = [] # create an empty list\n",
    "for i in range(len(bp.values)-1): # iterate through the index values of bp\n",
    "    diff = bp.values[i+1] - bp.values[i] # find the difference between an element and the previous element\n",
    "    diff_by_me.append(diff) # append to out list\n",
    "np.array(diff_by_me) # format as an np.array"
   ]
  },
  {
   "cell_type": "markdown",
   "metadata": {
    "colab_type": "text",
    "id": "oXbC8AedVqVh"
   },
   "source": [
    "### Your turn (note these values for the quiz that follows)"
   ]
  },
  {
   "cell_type": "code",
   "execution_count": 10,
   "metadata": {
    "colab": {},
    "colab_type": "code",
    "id": "ysRHBgQyVqVh"
   },
   "outputs": [
    {
     "data": {
      "text/plain": [
       "122.0"
      ]
     },
     "execution_count": 10,
     "metadata": {},
     "output_type": "execute_result"
    }
   ],
   "source": [
    "bp_median = bp.median()\n",
    "bp_median"
   ]
  },
  {
   "cell_type": "code",
   "execution_count": 11,
   "metadata": {
    "colab": {},
    "colab_type": "code",
    "id": "ton2jC0-VqVl"
   },
   "outputs": [
    {
     "data": {
      "text/plain": [
       "238.0"
      ]
     },
     "execution_count": 11,
     "metadata": {},
     "output_type": "execute_result"
    }
   ],
   "source": [
    "bp_max = bp.max()\n",
    "bp_max"
   ]
  },
  {
   "cell_type": "code",
   "execution_count": 12,
   "metadata": {
    "colab": {},
    "colab_type": "code",
    "id": "9IvCBxJpVqVo"
   },
   "outputs": [
    {
     "data": {
      "text/plain": [
       "84.0"
      ]
     },
     "execution_count": 12,
     "metadata": {},
     "output_type": "execute_result"
    }
   ],
   "source": [
    "bp_min = bp.min()\n",
    "bp_min"
   ]
  },
  {
   "cell_type": "code",
   "execution_count": 13,
   "metadata": {
    "colab": {},
    "colab_type": "code",
    "id": "CDKjM5mNVqVr"
   },
   "outputs": [
    {
     "data": {
      "text/plain": [
       "18.527011720295047"
      ]
     },
     "execution_count": 13,
     "metadata": {},
     "output_type": "execute_result"
    }
   ],
   "source": [
    "bp_std = bp.std()\n",
    "bp_std"
   ]
  },
  {
   "cell_type": "code",
   "execution_count": 14,
   "metadata": {
    "colab": {},
    "colab_type": "code",
    "id": "I7TM59VaVqVt"
   },
   "outputs": [
    {
     "data": {
      "text/plain": [
       "343.25016328395003"
      ]
     },
     "execution_count": 14,
     "metadata": {},
     "output_type": "execute_result"
    }
   ],
   "source": [
    "bp_var = bp.var()\n",
    "bp_var"
   ]
  },
  {
   "cell_type": "markdown",
   "metadata": {
    "colab_type": "text",
    "id": "MciM1juSVqVv"
   },
   "source": [
    "### How to find the interquartile range (note this value for the quiz that follows)\n",
    "This time we need to use the scipy.stats library that we imported above under the name 'stats'"
   ]
  },
  {
   "cell_type": "code",
   "execution_count": 15,
   "metadata": {
    "colab": {},
    "colab_type": "code",
    "id": "K-utEYK_VqVw"
   },
   "outputs": [
    {
     "data": {
      "text/plain": [
       "22.0"
      ]
     },
     "execution_count": 15,
     "metadata": {},
     "output_type": "execute_result"
    }
   ],
   "source": [
    "bp_iqr = stats.iqr(bp) \n",
    "bp_iqr"
   ]
  },
  {
   "cell_type": "markdown",
   "metadata": {
    "colab_type": "text",
    "id": "D8VDp9ouVqVz"
   },
   "source": [
    "## Visualizing the data\n",
    "Next we'll use what you have learned from the *Tables, Histograms, Boxplots in Python* video"
   ]
  },
  {
   "cell_type": "code",
   "execution_count": 16,
   "metadata": {
    "colab": {},
    "colab_type": "code",
    "id": "a13hP6oIVqV0"
   },
   "outputs": [
    {
     "data": {
      "text/plain": [
       "count    5535.000000\n",
       "mean      124.783017\n",
       "std        18.527012\n",
       "min        84.000000\n",
       "25%       112.000000\n",
       "50%       122.000000\n",
       "75%       134.000000\n",
       "max       238.000000\n",
       "Name: BPXSY2, dtype: float64"
      ]
     },
     "execution_count": 16,
     "metadata": {},
     "output_type": "execute_result"
    }
   ],
   "source": [
    "# use the Series.describe() method to see some descriptive statistics of our Series 'bp'\n",
    "bp_descriptive_stats = bp.describe()\n",
    "bp_descriptive_stats"
   ]
  },
  {
   "cell_type": "code",
   "execution_count": 17,
   "metadata": {
    "colab": {},
    "colab_type": "code",
    "id": "eBz00oU_VqV2"
   },
   "outputs": [
    {
     "name": "stderr",
     "output_type": "stream",
     "text": [
      "c:\\Users\\RDTL\\anaconda3\\envs\\ds_off_py\\lib\\site-packages\\seaborn\\distributions.py:2619: FutureWarning: `distplot` is a deprecated function and will be removed in a future version. Please adapt your code to use either `displot` (a figure-level function with similar flexibility) or `histplot` (an axes-level function for histograms).\n",
      "  warnings.warn(msg, FutureWarning)\n"
     ]
    },
    {
     "data": {
      "image/png": "[encoded data removed]",
      "text/plain": [
       "<Figure size 432x288 with 1 Axes>"
      ]
     },
     "metadata": {
      "needs_background": "light"
     },
     "output_type": "display_data"
    }
   ],
   "source": [
    "# Make a histogram of our 'bp' data using the seaborn library we imported as 'sns'\n",
    "# sns.distplot(df[\"BPXSY2\"])\n",
    "sns.distplot(bp, kde = False).set_title(\"Histogram of bp\")\n",
    "plt.show()"
   ]
  },
  {
   "cell_type": "markdown",
   "metadata": {
    "colab_type": "text",
    "id": "XMj_nGxkVqV4"
   },
   "source": [
    "Is your histogram labeled and does it have a title?\n",
    "If not, try appending \n",
    "```\n",
    ".set(title='your_title', xlabel='your_x_label', ylabel='your_y_label')\n",
    "```\n",
    "or just\n",
    "```\n",
    ".set(title='your_title')\n",
    "```\n",
    "to your graphing function"
   ]
  },
  {
   "cell_type": "code",
   "execution_count": 18,
   "metadata": {
    "colab": {},
    "colab_type": "code",
    "id": "7a4D9oeaVqV5"
   },
   "outputs": [
    {
     "name": "stderr",
     "output_type": "stream",
     "text": [
      "c:\\Users\\RDTL\\anaconda3\\envs\\ds_off_py\\lib\\site-packages\\seaborn\\_decorators.py:36: FutureWarning: Pass the following variable as a keyword arg: x. From version 0.12, the only valid positional argument will be `data`, and passing other arguments without an explicit keyword will result in an error or misinterpretation.\n",
      "  warnings.warn(\n"
     ]
    },
    {
     "data": {
      "image/png": "[encoded data removed]",
      "text/plain": [
       "<Figure size 432x288 with 1 Axes>"
      ]
     },
     "metadata": {
      "needs_background": "light"
     },
     "output_type": "display_data"
    }
   ],
   "source": [
    "# Make a boxplot of our 'bp' data using the seaborn library. Make sure it has a title and labels!\n",
    "sns.boxplot(df[\"BPXSY2\"]).set(title='boxplot of our bp data using the seaborn library we imported as sns')\n",
    "plt.show()"
   ]
  },
  {
   "cell_type": "code",
   "execution_count": null,
   "metadata": {},
   "outputs": [],
   "source": []
  }
 ],
 "metadata": {
  "colab": {
   "collapsed_sections": [
    "Sl2ANftxVqVX"
   ],
   "name": "w2 assessment.ipynb",
   "provenance": [],
   "version": "0.3.2"
  },
  "kernelspec": {
   "display_name": "Python 3.9.12 ('ds_off_py')",
   "language": "python",
   "name": "python3"
  },
  "language_info": {
   "codemirror_mode": {
    "name": "ipython",
    "version": 3
   },
   "file_extension": ".py",
   "mimetype": "text/x-python",
   "name": "python",
   "nbconvert_exporter": "python",
   "pygments_lexer": "ipython3",
   "version": "3.9.12"
  },
  "vscode": {
   "interpreter": {
    "hash": "b3beb77c0240aa6020c8645f2bdcb4bfb59476d6950b23e9d41a248e825f5631"
   }
  }
 },
 "nbformat": 4,
 "nbformat_minor": 1
}
